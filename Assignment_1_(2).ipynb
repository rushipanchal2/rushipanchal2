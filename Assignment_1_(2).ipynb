{
  "cells": [
    {
      "cell_type": "markdown",
      "metadata": {
        "id": "view-in-github",
        "colab_type": "text"
      },
      "source": [
        "<a href=\"https://colab.research.google.com/github/rushipanchal2/rushipanchal2/blob/main/Assignment_1_(2).ipynb\" target=\"_parent\"><img src=\"https://colab.research.google.com/assets/colab-badge.svg\" alt=\"Open In Colab\"/></a>"
      ]
    },
    {
      "cell_type": "markdown",
      "source": [
        "# NAME : RISHIKESH R PANCHAL\n",
        "# EMAIL : rushipanchal2@gmail.com"
      ],
      "metadata": {
        "id": "L6JUGbVJbxhu"
      },
      "id": "L6JUGbVJbxhu"
    },
    {
      "cell_type": "markdown",
      "source": [
        "#BATCH : DS MRG 3 SEPT"
      ],
      "metadata": {
        "id": "GfwcDul8bxUd"
      },
      "id": "GfwcDul8bxUd"
    },
    {
      "cell_type": "markdown",
      "source": [],
      "metadata": {
        "id": "uE_YOEz_bxDS"
      },
      "id": "uE_YOEz_bxDS"
    },
    {
      "cell_type": "markdown",
      "id": "6677a109",
      "metadata": {
        "id": "6677a109"
      },
      "source": [
        "# Topics: Variables, String, int, float \n"
      ]
    },
    {
      "cell_type": "markdown",
      "id": "8ab86123",
      "metadata": {
        "id": "8ab86123"
      },
      "source": [
        "# 1.What are the key features of Python?"
      ]
    },
    {
      "cell_type": "raw",
      "id": "cc388d2e",
      "metadata": {
        "id": "cc388d2e"
      },
      "source": [
        "1.It is OOP \n",
        "2.It is scripting launguge \n",
        "3.it is simple to debug \n",
        "4.It is dynamically typed  \n",
        "5.Python has vast libarrires and application\n",
        "6.Free on open source."
      ]
    },
    {
      "cell_type": "markdown",
      "id": "b4cbbea3",
      "metadata": {
        "id": "b4cbbea3"
      },
      "source": [
        "# 2.What are the Data Types in Python?"
      ]
    },
    {
      "cell_type": "raw",
      "id": "3009dad0",
      "metadata": {
        "id": "3009dad0"
      },
      "source": [
        " Basic -String ,Integer,Float,boolean,complex\n",
        "\n",
        " Container - lists,tuples,dictonary,sets\n",
        "\n",
        " User defined - Class"
      ]
    },
    {
      "cell_type": "markdown",
      "id": "09b99e2a",
      "metadata": {
        "id": "09b99e2a"
      },
      "source": [
        "# 3.What are local variables and global variables in Python? "
      ]
    },
    {
      "cell_type": "raw",
      "id": "9c129d73",
      "metadata": {
        "id": "9c129d73"
      },
      "source": [
        "Local Variables -- Can be accessed within funtion only i.e. scope is limited to funtion\n",
        "\n",
        "\n",
        "Global variables -- can be accessed anywhere in program i.e. scope is global and cn be used for multiple funtions once defined."
      ]
    },
    {
      "cell_type": "markdown",
      "id": "80ff0669",
      "metadata": {
        "id": "80ff0669"
      },
      "source": [
        "# 4.How do you write comments in python? And Why Comments are important?"
      ]
    },
    {
      "cell_type": "raw",
      "id": "fc5fdb20",
      "metadata": {
        "id": "fc5fdb20"
      },
      "source": [
        "We can comment out text in python by applying # at the start of sentence.\n",
        "and that comments are important beacuse they are useful for user readblity and maintenance"
      ]
    },
    {
      "cell_type": "markdown",
      "id": "bd47ec85",
      "metadata": {
        "id": "bd47ec85"
      },
      "source": [
        "# 5. How to comment on multiple lines in python? "
      ]
    },
    {
      "cell_type": "raw",
      "id": "89f146e8",
      "metadata": {
        "id": "89f146e8"
      },
      "source": [
        "we can commet  text in multiple lines by selecting all text once and press # key"
      ]
    },
    {
      "cell_type": "markdown",
      "id": "afc3eac6",
      "metadata": {
        "id": "afc3eac6"
      },
      "source": [
        "# 6. What do you mean by Python literals? \n"
      ]
    },
    {
      "cell_type": "raw",
      "id": "8eca35a3",
      "metadata": {
        "id": "8eca35a3"
      },
      "source": [
        "Literals are the constant values assigned to the constant variables. We can say that the literals represent the fixed values that cannot be modified. It also contains memory but does not have references as variables. For example, const int =10; is a constant integer expression in which 10 is an integer literal."
      ]
    },
    {
      "cell_type": "markdown",
      "id": "1d34620d",
      "metadata": {
        "id": "1d34620d"
      },
      "source": [
        "\n",
        "# 7.What are different ways to assign value to variables? "
      ]
    },
    {
      "cell_type": "raw",
      "id": "74e5a433",
      "metadata": {
        "id": "74e5a433"
      },
      "source": [
        "1. By using assingment operator"
      ]
    },
    {
      "cell_type": "markdown",
      "id": "dd73c950",
      "metadata": {
        "id": "dd73c950"
      },
      "source": [
        "# 8. What are the Escape Characters in python? "
      ]
    },
    {
      "cell_type": "raw",
      "id": "a850be3a",
      "metadata": {
        "id": "a850be3a"
      },
      "source": [
        "An escape character is a backslash \\ followed by the character you want to insert."
      ]
    },
    {
      "cell_type": "markdown",
      "id": "2ebf63e2",
      "metadata": {
        "id": "2ebf63e2"
      },
      "source": [
        "# 9.which are the different ways to perform string formatting? Explain with example. "
      ]
    },
    {
      "cell_type": "raw",
      "id": "2c5ab6c0",
      "metadata": {
        "id": "2c5ab6c0"
      },
      "source": [
        "Formatting with % Operator.\n",
        "Formatting with format() string method.\n",
        "Formatting with string literals, called f-strings.\n",
        "Formatting with String Template Class"
      ]
    },
    {
      "cell_type": "markdown",
      "id": "f4040b5e",
      "metadata": {
        "id": "f4040b5e"
      },
      "source": [
        "# 10.Write a program to print every character of a string entered by the user in a new line using a loop "
      ]
    },
    {
      "cell_type": "code",
      "execution_count": null,
      "id": "b8ec706e",
      "metadata": {
        "id": "b8ec706e",
        "outputId": "ac292901-ce3c-4ae2-c631-a5af67ccde66"
      },
      "outputs": [
        {
          "name": "stdout",
          "output_type": "stream",
          "text": [
            "Y\n",
            "o\n",
            "u\n",
            " \n",
            "c\n",
            "a\n",
            "n\n",
            " \n",
            "a\n",
            "l\n",
            "s\n",
            "o\n",
            " \n",
            "i\n",
            "n\n",
            "j\n",
            "e\n",
            "c\n",
            "t\n",
            " \n",
            "m\n",
            "u\n",
            "l\n",
            "t\n",
            "i\n",
            "p\n",
            "l\n",
            "e\n",
            " \n",
            "s\n",
            "t\n",
            "r\n",
            "i\n",
            "n\n",
            "g\n",
            "s\n",
            " \n",
            "a\n",
            "t\n",
            " \n",
            "a\n",
            " \n",
            "t\n",
            "i\n",
            "m\n",
            "e\n",
            " \n",
            "a\n",
            "n\n",
            "d\n",
            " \n",
            "c\n",
            "a\n",
            "n\n",
            " \n",
            "a\n",
            "l\n",
            "s\n",
            "o\n",
            " \n",
            "u\n",
            "s\n",
            "e\n",
            " \n",
            "v\n",
            "a\n",
            "r\n",
            "i\n",
            "a\n",
            "b\n",
            "l\n",
            "e\n",
            "s\n",
            " \n",
            "t\n",
            "o\n",
            " \n",
            "i\n",
            "n\n",
            "s\n",
            "e\n",
            "r\n",
            "t\n",
            " \n",
            "o\n",
            "b\n",
            "j\n",
            "e\n",
            "c\n",
            "t\n",
            "s\n",
            " \n",
            "i\n",
            "n\n",
            " \n",
            "t\n",
            "h\n",
            "e\n",
            " \n",
            "s\n",
            "t\n",
            "r\n",
            "i\n",
            "n\n",
            "g\n",
            ".\n"
          ]
        }
      ],
      "source": [
        "S = 'You can also inject multiple strings at a time and can also use variables to insert objects in the string.'\n",
        "\n",
        "for i in S:\n",
        "    print(i)"
      ]
    },
    {
      "cell_type": "markdown",
      "id": "54fc8cc5",
      "metadata": {
        "id": "54fc8cc5"
      },
      "source": [
        "# 11.Write a program to find the length of the string \"machine learning\" with andwithout using len function.\n"
      ]
    },
    {
      "cell_type": "code",
      "execution_count": null,
      "id": "e74fbcbb",
      "metadata": {
        "id": "e74fbcbb",
        "outputId": "a6e55486-823b-493d-d96d-5f94e48b5e08"
      },
      "outputs": [
        {
          "name": "stdout",
          "output_type": "stream",
          "text": [
            "16\n"
          ]
        },
        {
          "data": {
            "text/plain": [
              "16"
            ]
          },
          "execution_count": 57,
          "metadata": {},
          "output_type": "execute_result"
        }
      ],
      "source": [
        "string = \"machine learning\"\n",
        "\n",
        "#With len funtion-----\n",
        "\n",
        "print(len(string))\n",
        "\n",
        "#Without len funtion ---\n",
        "\n",
        "def findlen(string):\n",
        "    count=0\n",
        "    for i in string:\n",
        "        count +=1\n",
        "    return count \n",
        "\n",
        "findlen(string)     "
      ]
    },
    {
      "cell_type": "markdown",
      "id": "fa20fe2c",
      "metadata": {
        "id": "fa20fe2c"
      },
      "source": [
        "# 12.Write a program to check if the word 'orange' is present in the \"This is orange juice\"."
      ]
    },
    {
      "cell_type": "code",
      "execution_count": null,
      "id": "f3686a3d",
      "metadata": {
        "id": "f3686a3d",
        "outputId": "4665864d-c3f8-46c9-d175-8fa8b2ea29f8"
      },
      "outputs": [
        {
          "name": "stdout",
          "output_type": "stream",
          "text": [
            "Yes Present\n"
          ]
        }
      ],
      "source": [
        "a = \"This is orange juice\"\n",
        "\n",
        "#print(a.split())\n",
        "\n",
        "if 'orange' in a.split():\n",
        "    print (\"Yes Present\")\n",
        "else:\n",
        "     print (\"Not Present\")"
      ]
    },
    {
      "cell_type": "markdown",
      "id": "0db39103",
      "metadata": {
        "id": "0db39103"
      },
      "source": [
        "# 13.Write a program to find the number of vowels, consonants, digits, and white space characters in a string."
      ]
    },
    {
      "cell_type": "code",
      "execution_count": null,
      "id": "d9dafedc",
      "metadata": {
        "id": "d9dafedc",
        "outputId": "8717f80a-6d80-4fe2-ebf5-d3e23c631dfc"
      },
      "outputs": [
        {
          "ename": "TypeError",
          "evalue": "'>=' not supported between instances of 'str' and 'int'",
          "output_type": "error",
          "traceback": [
            "\u001b[1;31m---------------------------------------------------------------------------\u001b[0m",
            "\u001b[1;31mTypeError\u001b[0m                                 Traceback (most recent call last)",
            "Input \u001b[1;32mIn [54]\u001b[0m, in \u001b[0;36m<cell line: 10>\u001b[1;34m()\u001b[0m\n\u001b[0;32m     19\u001b[0m \u001b[38;5;28;01melif\u001b[39;00m((\u001b[38;5;28mstr\u001b[39m[i] \u001b[38;5;241m>\u001b[39m\u001b[38;5;241m=\u001b[39m \u001b[38;5;124m'\u001b[39m\u001b[38;5;124ma\u001b[39m\u001b[38;5;124m'\u001b[39m \u001b[38;5;129;01mand\u001b[39;00m \u001b[38;5;28mstr\u001b[39m[i] \u001b[38;5;241m<\u001b[39m\u001b[38;5;241m=\u001b[39m \u001b[38;5;124m'\u001b[39m\u001b[38;5;124mz\u001b[39m\u001b[38;5;124m'\u001b[39m)):\n\u001b[0;32m     20\u001b[0m     consonants \u001b[38;5;241m=\u001b[39m consonants \u001b[38;5;241m+\u001b[39m \u001b[38;5;241m1\u001b[39m\n\u001b[1;32m---> 22\u001b[0m \u001b[38;5;28;01melif\u001b[39;00m( \u001b[38;5;28;43mstr\u001b[39;49m\u001b[43m[\u001b[49m\u001b[43mi\u001b[49m\u001b[43m]\u001b[49m\u001b[43m \u001b[49m\u001b[38;5;241;43m>\u001b[39;49m\u001b[38;5;241;43m=\u001b[39;49m\u001b[43m \u001b[49m\u001b[38;5;241;43m0\u001b[39;49m \u001b[38;5;129;01mand\u001b[39;00m \u001b[38;5;28mstr\u001b[39m[i] \u001b[38;5;241m<\u001b[39m\u001b[38;5;241m=\u001b[39m \u001b[38;5;241m9\u001b[39m):\n\u001b[0;32m     23\u001b[0m     digits \u001b[38;5;241m=\u001b[39m digits \u001b[38;5;241m+\u001b[39m \u001b[38;5;241m1\u001b[39m\n\u001b[0;32m     25\u001b[0m \u001b[38;5;28;01melif\u001b[39;00m (\u001b[38;5;28mstr\u001b[39m[i] \u001b[38;5;241m==\u001b[39m\u001b[38;5;124m'\u001b[39m\u001b[38;5;124m \u001b[39m\u001b[38;5;124m'\u001b[39m ):\n",
            "\u001b[1;31mTypeError\u001b[0m: '>=' not supported between instances of 'str' and 'int'"
          ]
        }
      ],
      "source": [
        "str = \"The whole secret of a successful life is to find out what is one’s destiny to do, and then do it 100%.\"\n",
        "vowels = 0\n",
        "digits = 0\n",
        "consonants = 0\n",
        "spaces = 0\n",
        "symbols = 0\n",
        "\n",
        "str = str.lower()\n",
        "\n",
        "for i in range(0,len(str)):\n",
        "    if((str[i]) == 'a'\n",
        "       or str[i] == 'e' \n",
        "       or str[i] == 'i'\n",
        "       or str[i] == 'o'\n",
        "       or str[i] == 'u'):\n",
        "    \n",
        "       vowels = vowels + 1\n",
        "\n",
        "    elif((str[i] >= 'a' and str[i] <= 'z')):\n",
        "        consonants = consonants + 1\n",
        "\n",
        "    elif( str[i] >= 0 and str[i] <= 9):\n",
        "        digits = digits + 1\n",
        "\n",
        "    elif (str[i] ==' ' ):\n",
        "        spaces = spaces + 1\n",
        "\n",
        "    else:\n",
        "        symbols = symbols + 1\n",
        "        \n",
        "        \n",
        "print(\"Vowels\", vowels);\n",
        "print(\"Consonants\", consonants);\n",
        "print(\"Digits\" ,digits);\n",
        "print(\"White spaces\", spaces);\n",
        "print(\"Symbols\", symbols); \n",
        "\n",
        "        "
      ]
    },
    {
      "cell_type": "markdown",
      "id": "c5cb4b16",
      "metadata": {
        "id": "c5cb4b16"
      },
      "source": [
        "# 14.Write a Python program to count Uppercase, Lowercase, special character,and numeric values in a given string."
      ]
    },
    {
      "cell_type": "code",
      "execution_count": null,
      "id": "5d5a3b2e",
      "metadata": {
        "id": "5d5a3b2e",
        "outputId": "c5c75a88-33c1-4ec0-a048-d0dcba86a6c2"
      },
      "outputs": [
        {
          "name": "stdout",
          "output_type": "stream",
          "text": [
            "uppercase 1 lowercase 45 special 0 numerical 5\n"
          ]
        }
      ],
      "source": [
        "uppercase = 0\n",
        "lowercase = 0\n",
        "special =0\n",
        "numerical =0\n",
        "\n",
        "from string import printable\n",
        "\n",
        "string = 'Life is what happens when youre busy making other plans @#$% 56479'\n",
        "\n",
        "for i in string:\n",
        "    \n",
        "    if i.isupper():\n",
        "        uppercase += 1\n",
        "        \n",
        "    elif i.islower():\n",
        "        lowercase += 1\n",
        "      \n",
        "    elif i.isdigit():\n",
        "        numerical += 1\n",
        "     \n",
        "    elif set(string).difference(printable):\n",
        "            special +=1\n",
        "            \n",
        "    else:\n",
        "        pass\n",
        "        \n",
        "            \n",
        "print('uppercase', uppercase,\n",
        "      \n",
        "      'lowercase', lowercase,\n",
        "      \n",
        "      'special' ,special,\n",
        "      \n",
        "      'numerical',numerical)\n"
      ]
    },
    {
      "cell_type": "markdown",
      "source": [
        "15.Write a program to make a new string with all the consonants deleted from the\n",
        "string \"Hello, have a good day\""
      ],
      "metadata": {
        "id": "0167437e"
      },
      "id": "0167437e"
    },
    {
      "cell_type": "code",
      "source": [
        "a = ['a','e','i','o','u','A','E','I','O','U',' ']    \n",
        "b = \"Hello, have a good day\"\n",
        "c = \"\"                          \n",
        "\n",
        "for i in b:                             \n",
        "    if i not in a:                                 \n",
        "        continue               \n",
        "    else:                 \n",
        "        c=c+i      \n",
        "print(c)"
      ],
      "metadata": {
        "colab": {
          "base_uri": "https://localhost:8080/"
        },
        "id": "wlMTLfn3bEik",
        "outputId": "d137d1b9-3c31-422a-a686-2c75021acc8e"
      },
      "id": "wlMTLfn3bEik",
      "execution_count": null,
      "outputs": [
        {
          "output_type": "stream",
          "name": "stdout",
          "text": [
            "eo ae a oo a\n"
          ]
        }
      ]
    },
    {
      "cell_type": "markdown",
      "source": [
        "16. Write a Python program to remove the nth index character from a non-empty\n",
        "string."
      ],
      "metadata": {
        "id": "BKLEs57qXON9"
      },
      "id": "BKLEs57qXON9"
    },
    {
      "cell_type": "code",
      "execution_count": null,
      "id": "8022a6da",
      "metadata": {
        "colab": {
          "base_uri": "https://localhost:8080/"
        },
        "id": "8022a6da",
        "outputId": "5b7bb5d3-279d-4daa-9c48-da3cb8ad76de"
      },
      "outputs": [
        {
          "output_type": "stream",
          "name": "stdout",
          "text": [
            "Thisis a sample string\n"
          ]
        }
      ],
      "source": [
        "str = \"This is a sample string\"\n",
        "n=4\n",
        "empty_str = ''\n",
        "for char in range(0, len(str)):\n",
        "  if(char != n):\n",
        "    empty_str += str[char]\n",
        "\n",
        "print(empty_str)    "
      ]
    },
    {
      "cell_type": "markdown",
      "source": [
        "17.Write a Python program to change a given string to a new string where the\n",
        "first and last characters have been exchanged."
      ],
      "metadata": {
        "id": "MP0xADuDbKqJ"
      },
      "id": "MP0xADuDbKqJ"
    },
    {
      "cell_type": "code",
      "source": [
        "Given_string = 'this is a given string'\n",
        "\n",
        "def swap(Given_string):\n",
        "  end = Given_string[-1]\n",
        "  start = Given_string[0]\n",
        "\n",
        "  swapped = end + Given_string[1:-1] + start\n",
        "  print(swapped)\n",
        "\n",
        "\n",
        "\n",
        "swap(Given_string)\n",
        "\n",
        "   \n"
      ],
      "metadata": {
        "colab": {
          "base_uri": "https://localhost:8080/"
        },
        "id": "v9fN_BG9bPlV",
        "outputId": "fe9e26d7-df8d-4353-8b6a-61566f58c390"
      },
      "id": "v9fN_BG9bPlV",
      "execution_count": null,
      "outputs": [
        {
          "output_type": "stream",
          "name": "stdout",
          "text": [
            "ghis is a given strint\n"
          ]
        }
      ]
    },
    {
      "cell_type": "markdown",
      "source": [
        "18. Write a Python program to count the occurrences of each word in a given\n",
        "sentence."
      ],
      "metadata": {
        "id": "m2U-nKlbdVIz"
      },
      "id": "m2U-nKlbdVIz"
    },
    {
      "cell_type": "code",
      "source": [
        "sample = 'Life is what happens when youre busy making other plans in life'\n",
        "\n",
        "d = {}\n",
        "words = sample.strip()\n",
        "words = words.lower()\n",
        "words = words.split()\n",
        "\n",
        "for i in words:\n",
        "  if i in d:\n",
        "      d[i] = d[i] +1\n",
        "  else:\n",
        "    d[i]=1\n",
        "\n",
        "\n",
        "print(d)\n",
        "\n"
      ],
      "metadata": {
        "id": "H9OGng_jdZKB",
        "colab": {
          "base_uri": "https://localhost:8080/"
        },
        "outputId": "361c6253-1fe4-4d7d-d39c-7a5f01308c2b"
      },
      "id": "H9OGng_jdZKB",
      "execution_count": 22,
      "outputs": [
        {
          "output_type": "stream",
          "name": "stdout",
          "text": [
            "{'life': 2, 'is': 1, 'what': 1, 'happens': 1, 'when': 1, 'youre': 1, 'busy': 1, 'making': 1, 'other': 1, 'plans': 1, 'in': 1}\n"
          ]
        }
      ]
    },
    {
      "cell_type": "markdown",
      "source": [
        "*19*. How do you count the occurrence of a given character in a string?"
      ],
      "metadata": {
        "id": "L36Y9qYpgKUW"
      },
      "id": "L36Y9qYpgKUW"
    },
    {
      "cell_type": "code",
      "source": [
        "def count(s,c):\n",
        "   var = 0\n",
        "   for i in range(len(s)):\n",
        "      if (s[i]==c):\n",
        "        var = var+1\n",
        "   return var\n",
        "\n",
        "s = \"You call it madness, but I call it love\"\n",
        "count(s,c='o')       "
      ],
      "metadata": {
        "id": "XUFu38hQgPbZ",
        "colab": {
          "base_uri": "https://localhost:8080/"
        },
        "outputId": "9b826640-8505-4076-92e4-35a7c89addd5"
      },
      "id": "XUFu38hQgPbZ",
      "execution_count": 23,
      "outputs": [
        {
          "output_type": "execute_result",
          "data": {
            "text/plain": [
              "2"
            ]
          },
          "metadata": {},
          "execution_count": 23
        }
      ]
    },
    {
      "cell_type": "markdown",
      "source": [
        "20. Write a program to find last 10 characters of a string?"
      ],
      "metadata": {
        "id": "wcpvm87vma1E"
      },
      "id": "wcpvm87vma1E"
    },
    {
      "cell_type": "code",
      "source": [
        "def last10(s):\n",
        "  print(s[-10:],end=' ')\n",
        "    \n",
        "   \n",
        "    \n",
        "\n",
        "Str = 'What we have once enjoyed we can never lose. All that we love deeply becomes a part of us'\n",
        "\n",
        "last10(Str)"
      ],
      "metadata": {
        "colab": {
          "base_uri": "https://localhost:8080/"
        },
        "id": "rkU4HpwMmuDb",
        "outputId": "3c8c9717-4556-4986-ec08-0910332aab30"
      },
      "id": "rkU4HpwMmuDb",
      "execution_count": 33,
      "outputs": [
        {
          "output_type": "stream",
          "name": "stdout",
          "text": [
            "part of us "
          ]
        }
      ]
    },
    {
      "cell_type": "markdown",
      "source": [
        "21. WAP to convert a given string to all uppercase if it contains at least 2\n",
        "uppercase characters in the first 4 characters."
      ],
      "metadata": {
        "id": "BHZj8WVZpNDu"
      },
      "id": "BHZj8WVZpNDu"
    },
    {
      "cell_type": "code",
      "source": [
        "def to_uppercase(str1):\n",
        "    num_upper = 0\n",
        "    for letter in str1[:4]: \n",
        "        if letter.upper() == letter:\n",
        "            num_upper += 1\n",
        "    if num_upper >= 2:\n",
        "        return str1.upper()\n",
        "    return str1\n",
        "\n",
        "print(to_uppercase('Python'))\n",
        "print(to_uppercase('PyThon'))"
      ],
      "metadata": {
        "colab": {
          "base_uri": "https://localhost:8080/"
        },
        "id": "MLX45h8HnZST",
        "outputId": "7a709474-df3c-4d1f-e4cf-6dc25b5007ad"
      },
      "id": "MLX45h8HnZST",
      "execution_count": 51,
      "outputs": [
        {
          "output_type": "stream",
          "name": "stdout",
          "text": [
            "Python\n",
            "PYTHON\n"
          ]
        }
      ]
    },
    {
      "cell_type": "markdown",
      "source": [
        "22.Write a Python program to remove a newline in Python."
      ],
      "metadata": {
        "id": "km_TP_WwwAdM"
      },
      "id": "km_TP_WwwAdM"
    },
    {
      "cell_type": "code",
      "source": [
        "line = '\\n This is string for you to remove new line \\n'\n",
        "string = line.strip()\n",
        "print(string)"
      ],
      "metadata": {
        "colab": {
          "base_uri": "https://localhost:8080/"
        },
        "id": "57rixFP9wh8g",
        "outputId": "a83c2cab-6759-48da-bfc6-bfca4a86c91a"
      },
      "id": "57rixFP9wh8g",
      "execution_count": 52,
      "outputs": [
        {
          "output_type": "stream",
          "name": "stdout",
          "text": [
            "This is string for you to remove new line\n"
          ]
        }
      ]
    },
    {
      "cell_type": "markdown",
      "source": [
        "23. Write a Python program to swap commas and dots in a string\n",
        "○ Sample string: \"32.054,23\"\n",
        "○ Expected Output: \"32,054.23\""
      ],
      "metadata": {
        "id": "OL2B34b7ysvi"
      },
      "id": "OL2B34b7ysvi"
    },
    {
      "cell_type": "code",
      "source": [
        "amount = \"32.054,23\"\n",
        "maketrans = amount.maketrans\n",
        "amount = amount.translate(maketrans(',.', '.,'))\n",
        "print(amount)\n",
        "\n",
        "#Rewise"
      ],
      "metadata": {
        "colab": {
          "base_uri": "https://localhost:8080/"
        },
        "id": "1F9hyW2fytY6",
        "outputId": "9dc2362e-ad55-428c-cfeb-f456fd3f3e9b"
      },
      "id": "1F9hyW2fytY6",
      "execution_count": 55,
      "outputs": [
        {
          "output_type": "stream",
          "name": "stdout",
          "text": [
            "32,054.23\n"
          ]
        }
      ]
    },
    {
      "cell_type": "markdown",
      "source": [
        "24.Write a Python program to find the first repeated character in a given string"
      ],
      "metadata": {
        "id": "iRAgd-d8zHJ8"
      },
      "id": "iRAgd-d8zHJ8"
    },
    {
      "cell_type": "code",
      "source": [
        "letters = 'acbdc'\n",
        "found_dict = {}\n",
        "for i in letters:\n",
        "    if i in found_dict:\n",
        "        print(i)\n",
        "        break\n",
        "    else:\n",
        "        found_dict[i]= 1"
      ],
      "metadata": {
        "colab": {
          "base_uri": "https://localhost:8080/"
        },
        "id": "BJK6MmmRzK6i",
        "outputId": "f4cc4960-acd8-4829-d46a-7e5afe6d02af"
      },
      "id": "BJK6MmmRzK6i",
      "execution_count": 56,
      "outputs": [
        {
          "output_type": "stream",
          "name": "stdout",
          "text": [
            "c\n"
          ]
        }
      ]
    },
    {
      "cell_type": "markdown",
      "source": [
        "25.Write a Python program to find the second most repeated word in a given\n",
        "string"
      ],
      "metadata": {
        "id": "HkBd-wBo2SZZ"
      },
      "id": "HkBd-wBo2SZZ"
    },
    {
      "cell_type": "code",
      "source": [
        "str1 = 'visheshsahu'\n",
        "\n",
        "dict = {}\n",
        "\n",
        "for n in str1:\n",
        "\n",
        "        keys = dict.keys()\n",
        "        if n in keys:\n",
        "            dict[n] += 1\n",
        "        else:\n",
        "            dict[n] = 1\n",
        "r = sorted(dict.items(),key=lambda x: x[1])\n",
        "\n",
        "print(r[-2])"
      ],
      "metadata": {
        "colab": {
          "base_uri": "https://localhost:8080/"
        },
        "id": "CBVt7Cy12Z6B",
        "outputId": "989d95dd-8f9f-4b89-e983-8109d38eacd7"
      },
      "id": "CBVt7Cy12Z6B",
      "execution_count": 57,
      "outputs": [
        {
          "output_type": "stream",
          "name": "stdout",
          "text": [
            "('s', 3)\n"
          ]
        }
      ]
    },
    {
      "cell_type": "markdown",
      "source": [
        "26.Python program to Count Even and Odd numbers in a string (List----I guess)\n",
        "\n"
      ],
      "metadata": {
        "id": "-biYQa2U3TfS"
      },
      "id": "-biYQa2U3TfS"
    },
    {
      "cell_type": "code",
      "source": [
        "even =0\n",
        "odd = 0\n",
        "\n",
        "lis = [ 21,4,6,797,9,43,32,564,87,9,44,66,88,99,34,434,78]\n",
        "\n",
        "for i in lis:\n",
        "  if i%2 == 0:\n",
        "    even+=1\n",
        "  if i%2 != 0:\n",
        "    odd += 1\n",
        "\n",
        "\n",
        "print('odd',odd)\n",
        "print('even',even)\n",
        "\n",
        "\n",
        "\n"
      ],
      "metadata": {
        "colab": {
          "base_uri": "https://localhost:8080/"
        },
        "id": "hW97DqcX3Xzu",
        "outputId": "c181aa91-8a8c-4de7-b7ce-1a0e9edf7f36"
      },
      "id": "hW97DqcX3Xzu",
      "execution_count": 60,
      "outputs": [
        {
          "output_type": "stream",
          "name": "stdout",
          "text": [
            "odd 7\n",
            "even 10\n"
          ]
        }
      ]
    },
    {
      "cell_type": "markdown",
      "source": [
        "27. How do you check if a string contains only digits?"
      ],
      "metadata": {
        "id": "DBPzxtqq6TH6"
      },
      "id": "DBPzxtqq6TH6"
    },
    {
      "cell_type": "code",
      "source": [
        "s = '8676'\n",
        "\n",
        "s.isdigit()"
      ],
      "metadata": {
        "colab": {
          "base_uri": "https://localhost:8080/"
        },
        "id": "PZnNqieb6ZJP",
        "outputId": "d4e34deb-f293-43f3-b443-0ab3d364e0a3"
      },
      "id": "PZnNqieb6ZJP",
      "execution_count": 61,
      "outputs": [
        {
          "output_type": "execute_result",
          "data": {
            "text/plain": [
              "True"
            ]
          },
          "metadata": {},
          "execution_count": 61
        }
      ]
    },
    {
      "cell_type": "markdown",
      "source": [
        "28. How do you remove a given character/word from String?"
      ],
      "metadata": {
        "id": "syRTr9Fg7T-K"
      },
      "id": "syRTr9Fg7T-K"
    },
    {
      "cell_type": "code",
      "source": [
        "str = 'abcdefggik'\n",
        "\n",
        "str.replace('g','hhhh')"
      ],
      "metadata": {
        "colab": {
          "base_uri": "https://localhost:8080/",
          "height": 35
        },
        "id": "zzBeXlzr7Umv",
        "outputId": "438977dc-488f-4276-f1df-4af51ab03cda"
      },
      "id": "zzBeXlzr7Umv",
      "execution_count": 63,
      "outputs": [
        {
          "output_type": "execute_result",
          "data": {
            "text/plain": [
              "'abcdefhhhhhhhhik'"
            ],
            "application/vnd.google.colaboratory.intrinsic+json": {
              "type": "string"
            }
          },
          "metadata": {},
          "execution_count": 63
        }
      ]
    },
    {
      "cell_type": "markdown",
      "source": [
        "29. Write a Python program to remove the characters which have odd index\n",
        "values of a given string"
      ],
      "metadata": {
        "id": "uoqCKJt78Rw_"
      },
      "id": "uoqCKJt78Rw_"
    },
    {
      "cell_type": "code",
      "source": [
        "s = 'abcdefgh'\n",
        "print(s[::2])\n"
      ],
      "metadata": {
        "colab": {
          "base_uri": "https://localhost:8080/"
        },
        "id": "irOMqUhw8O83",
        "outputId": "65d9b3fd-de61-48bb-e94f-20268a155954"
      },
      "id": "irOMqUhw8O83",
      "execution_count": 65,
      "outputs": [
        {
          "output_type": "stream",
          "name": "stdout",
          "text": [
            "aceg\n"
          ]
        }
      ]
    },
    {
      "cell_type": "markdown",
      "source": [
        "30. Write a Python function to reverses a string if its length is a multiple of 5"
      ],
      "metadata": {
        "id": "4U5SlKup8hMg"
      },
      "id": "4U5SlKup8hMg"
    },
    {
      "cell_type": "code",
      "source": [
        "def reverse_string(str1):\n",
        "    if len(str1) % 5 == 0:\n",
        "       return ''.join(reversed(str1))\n",
        "    return str1\n",
        "\n",
        "print(reverse_string('abcd'))\n",
        "print(reverse_string('pytho'))"
      ],
      "metadata": {
        "colab": {
          "base_uri": "https://localhost:8080/"
        },
        "id": "GsdZjtoU8kar",
        "outputId": "6e0a9cec-b503-4c69-dd34-32dff4fc3f09"
      },
      "id": "GsdZjtoU8kar",
      "execution_count": 67,
      "outputs": [
        {
          "output_type": "stream",
          "name": "stdout",
          "text": [
            "abcd\n",
            "ohtyp\n"
          ]
        }
      ]
    },
    {
      "cell_type": "markdown",
      "source": [
        "31. Write a Python program to format a number with a percentage(0.05 >> 5%)"
      ],
      "metadata": {
        "id": "refPhsc09Ei3"
      },
      "id": "refPhsc09Ei3"
    },
    {
      "cell_type": "code",
      "source": [
        "V = 0.05 \n",
        "\n",
        "def to_percentage(n):\n",
        "  m=n*100\n",
        "  return   m \n",
        "  \n",
        "to_percentage(V)  \n",
        "\n"
      ],
      "metadata": {
        "colab": {
          "base_uri": "https://localhost:8080/"
        },
        "id": "mYvUg1qJ9CoE",
        "outputId": "1cd3131a-b059-493e-d15f-0789ffb078eb"
      },
      "id": "mYvUg1qJ9CoE",
      "execution_count": 75,
      "outputs": [
        {
          "output_type": "execute_result",
          "data": {
            "text/plain": [
              "5.0"
            ]
          },
          "metadata": {},
          "execution_count": 75
        }
      ]
    },
    {
      "cell_type": "markdown",
      "source": [
        "32. Write a Python program to reverse words in a string"
      ],
      "metadata": {
        "id": "kcieffiNUEC6"
      },
      "id": "kcieffiNUEC6"
    },
    {
      "cell_type": "code",
      "source": [
        "string = \"You know you’re in love when you can’t fall asleep because reality is finally better than your dream\"\n",
        "words = string.split()\n",
        "words = list(reversed(words))\n",
        "print(\" \".join(words))"
      ],
      "metadata": {
        "colab": {
          "base_uri": "https://localhost:8080/"
        },
        "id": "kDUuRDX6-wuM",
        "outputId": "91c4d206-6a19-4310-ece5-cdc72d2770a7"
      },
      "id": "kDUuRDX6-wuM",
      "execution_count": 78,
      "outputs": [
        {
          "output_type": "stream",
          "name": "stdout",
          "text": [
            "dream your than better finally is reality because asleep fall can’t you when love in you’re know You\n"
          ]
        }
      ]
    },
    {
      "cell_type": "markdown",
      "source": [
        "33. Write a Python program to swap cases of a given string"
      ],
      "metadata": {
        "id": "nVhJKuAZYs_8"
      },
      "id": "nVhJKuAZYs_8"
    },
    {
      "cell_type": "code",
      "source": [
        "def swap_case_string(str1):\n",
        "   result_str = \"\"   \n",
        "   for item in str1:\n",
        "       if item.isupper():\n",
        "           result_str += item.lower()\n",
        "       else:\n",
        "           result_str += item.upper()           \n",
        "   return result_str\n",
        "print(swap_case_string(\"If I had a flower for every time I thought of you... I could walk through my garden forever\"))  "
      ],
      "metadata": {
        "colab": {
          "base_uri": "https://localhost:8080/"
        },
        "id": "ZYoM0Y1rUc8W",
        "outputId": "bb2be07e-8410-42a6-d5c7-157fe3fa17dd"
      },
      "id": "ZYoM0Y1rUc8W",
      "execution_count": 79,
      "outputs": [
        {
          "output_type": "stream",
          "name": "stdout",
          "text": [
            "iF i HAD A FLOWER FOR EVERY TIME i THOUGHT OF YOU... i COULD WALK THROUGH MY GARDEN FOREVER\n"
          ]
        }
      ]
    },
    {
      "cell_type": "markdown",
      "source": [
        "34. Write a Python program to remove spaces from a given string"
      ],
      "metadata": {
        "id": "hXetDSAcZJLO"
      },
      "id": "hXetDSAcZJLO"
    },
    {
      "cell_type": "code",
      "source": [
        "def remove_spaces(str1):\n",
        "  str1 = str1.replace(' ','')\n",
        "  return str1\n",
        "    \n",
        "print(remove_spaces(\"You’re the closest to heaven, that I’ll ever be.\"))"
      ],
      "metadata": {
        "colab": {
          "base_uri": "https://localhost:8080/"
        },
        "id": "TfpKJlh6ZL8t",
        "outputId": "29ca17d8-0efc-442e-d769-f2d2328f3495"
      },
      "id": "TfpKJlh6ZL8t",
      "execution_count": 80,
      "outputs": [
        {
          "output_type": "stream",
          "name": "stdout",
          "text": [
            "You’retheclosesttoheaven,thatI’lleverbe.\n"
          ]
        }
      ]
    },
    {
      "cell_type": "markdown",
      "source": [
        "35. Write a Python program to remove duplicate characters of a given string"
      ],
      "metadata": {
        "id": "62dj_3SGZexP"
      },
      "id": "62dj_3SGZexP"
    },
    {
      "cell_type": "code",
      "source": [
        "def remove_spaces(str1):\n",
        "  str1 = str1.replace(' ','')\n",
        "  return str1\n",
        "\n",
        "\n",
        "remove_spaces('I will never stop trying. Because when you find the one... you never give up')"
      ],
      "metadata": {
        "colab": {
          "base_uri": "https://localhost:8080/",
          "height": 35
        },
        "id": "y4Z0RvWYZkl1",
        "outputId": "fb3fa84d-1956-4e36-b42e-d2f9fc7d5485"
      },
      "id": "y4Z0RvWYZkl1",
      "execution_count": 81,
      "outputs": [
        {
          "output_type": "execute_result",
          "data": {
            "text/plain": [
              "'Iwillneverstoptrying.Becausewhenyoufindtheone...younevergiveup'"
            ],
            "application/vnd.google.colaboratory.intrinsic+json": {
              "type": "string"
            }
          },
          "metadata": {},
          "execution_count": 81
        }
      ]
    },
    {
      "cell_type": "markdown",
      "source": [
        "36. Write a Python Program to find the area of a circle"
      ],
      "metadata": {
        "id": "NpEPFvt_aCW_"
      },
      "id": "NpEPFvt_aCW_"
    },
    {
      "cell_type": "code",
      "source": [
        "from math import pi \n",
        "def calc_area(r): \n",
        "    return pi * r * r\n",
        "\n",
        "calc_area(5)   \n",
        "\n"
      ],
      "metadata": {
        "colab": {
          "base_uri": "https://localhost:8080/"
        },
        "id": "wDOSzsVcaAcb",
        "outputId": "db265c4c-ee46-4355-e490-cd58ed36e513"
      },
      "id": "wDOSzsVcaAcb",
      "execution_count": 84,
      "outputs": [
        {
          "output_type": "execute_result",
          "data": {
            "text/plain": [
              "78.53981633974483"
            ]
          },
          "metadata": {},
          "execution_count": 84
        }
      ]
    },
    {
      "cell_type": "markdown",
      "source": [
        "37. Python Program to find Sum of squares of first n natural numbers"
      ],
      "metadata": {
        "id": "7lC5FmAAamo5"
      },
      "id": "7lC5FmAAamo5"
    },
    {
      "cell_type": "code",
      "source": [
        "def squaresum(n):\n",
        "  sm = 0\n",
        "  for i in range(1, n+1) :\n",
        "        sm = sm + (i * i)\n",
        "      \n",
        "  return sm\n",
        "\n",
        "squaresum(9)  "
      ],
      "metadata": {
        "colab": {
          "base_uri": "https://localhost:8080/"
        },
        "id": "I9p7ELWMaeOH",
        "outputId": "5e51765f-b369-48d1-e836-823ce6e82876"
      },
      "id": "I9p7ELWMaeOH",
      "execution_count": 86,
      "outputs": [
        {
          "output_type": "execute_result",
          "data": {
            "text/plain": [
              "285"
            ]
          },
          "metadata": {},
          "execution_count": 86
        }
      ]
    },
    {
      "cell_type": "markdown",
      "source": [
        "38. Python Program to find cube sum of first n natural numbers"
      ],
      "metadata": {
        "id": "yZDdW8Q5bJCX"
      },
      "id": "yZDdW8Q5bJCX"
    },
    {
      "cell_type": "code",
      "source": [
        "def CubeSum(n):\n",
        "    s=0\n",
        "    for i in range(n+1):\n",
        "        s+=i**3\n",
        "    return s\n",
        "n=int(input(\"enter n: \"))\n",
        "print(\"sum of cubes of first {} natural numbers: \".format(n),CubeSum(n))"
      ],
      "metadata": {
        "colab": {
          "base_uri": "https://localhost:8080/"
        },
        "id": "DiLnNbiFbYXq",
        "outputId": "a510609d-0dbb-4633-fcee-011554b8a2f4"
      },
      "id": "DiLnNbiFbYXq",
      "execution_count": 87,
      "outputs": [
        {
          "output_type": "stream",
          "name": "stdout",
          "text": [
            "enter n: 6\n",
            "sum of cubes of first 6 natural numbers:  441\n"
          ]
        }
      ]
    },
    {
      "cell_type": "code",
      "source": [],
      "metadata": {
        "id": "y8YSLZ09bGa-"
      },
      "id": "y8YSLZ09bGa-",
      "execution_count": 87,
      "outputs": []
    },
    {
      "cell_type": "markdown",
      "source": [],
      "metadata": {
        "id": "hwYXf7KqbuTs"
      },
      "id": "hwYXf7KqbuTs"
    },
    {
      "cell_type": "markdown",
      "source": [],
      "metadata": {
        "id": "EehrbYsVbup5"
      },
      "id": "EehrbYsVbup5"
    }
  ],
  "metadata": {
    "kernelspec": {
      "display_name": "Python 3 (ipykernel)",
      "language": "python",
      "name": "python3"
    },
    "language_info": {
      "codemirror_mode": {
        "name": "ipython",
        "version": 3
      },
      "file_extension": ".py",
      "mimetype": "text/x-python",
      "name": "python",
      "nbconvert_exporter": "python",
      "pygments_lexer": "ipython3",
      "version": "3.10.6"
    },
    "colab": {
      "provenance": [],
      "collapsed_sections": [],
      "include_colab_link": true
    }
  },
  "nbformat": 4,
  "nbformat_minor": 5
}