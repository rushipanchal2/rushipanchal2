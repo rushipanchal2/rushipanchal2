{
  "cells": [
    {
      "cell_type": "markdown",
      "metadata": {
        "id": "view-in-github",
        "colab_type": "text"
      },
      "source": [
        "<a href=\"https://colab.research.google.com/github/rushipanchal2/rushipanchal2/blob/main/Set_DataType.ipynb\" target=\"_parent\"><img src=\"https://colab.research.google.com/assets/colab-badge.svg\" alt=\"Open In Colab\"/></a>"
      ]
    },
    {
      "cell_type": "code",
      "execution_count": 1,
      "id": "25e6e204",
      "metadata": {
        "id": "25e6e204",
        "outputId": "188dfe6c-135b-4d1e-e4f2-c2547babfe08",
        "colab": {
          "base_uri": "https://localhost:8080/",
          "height": 130
        }
      },
      "outputs": [
        {
          "output_type": "error",
          "ename": "SyntaxError",
          "evalue": "ignored",
          "traceback": [
            "\u001b[0;36m  File \u001b[0;32m\"<ipython-input-1-814f82211872>\"\u001b[0;36m, line \u001b[0;32m1\u001b[0m\n\u001b[0;31m    String : Immutable, Ordered, Duplicates are allowed\u001b[0m\n\u001b[0m                      ^\u001b[0m\n\u001b[0;31mSyntaxError\u001b[0m\u001b[0;31m:\u001b[0m invalid syntax\n"
          ]
        }
      ],
      "source": [
        "String : Immutable, Ordered, Duplicates are allowed\n",
        "List   : Mutable, Ordered, Duplicates are allowed\n",
        "Tuple  : Immutable, Ordered, Duplicates are allowed\n",
        "*******************************************************\n",
        "Set    : Mutable, Unordered, Duplicates are not allowed"
      ]
    },
    {
      "cell_type": "markdown",
      "id": "897f7059",
      "metadata": {
        "id": "897f7059"
      },
      "source": [
        "## Set"
      ]
    },
    {
      "cell_type": "code",
      "execution_count": null,
      "id": "3de61531",
      "metadata": {
        "id": "3de61531"
      },
      "outputs": [],
      "source": [
        "1. Mutable\n",
        "2. Unordered\n",
        "3. Duplicates are not allowed\n",
        "4. Enclosed by { }\n",
        "5. Indexing not applicable \n",
        "6. Can contain only integer, float, string and datatypes like list, tuple, set, dict, frozenset are not allowed"
      ]
    },
    {
      "cell_type": "code",
      "execution_count": null,
      "id": "9fa67f09",
      "metadata": {
        "id": "9fa67f09",
        "outputId": "3bde237e-1ce9-4743-e2ea-c87014708d42"
      },
      "outputs": [
        {
          "data": {
            "text/plain": [
              "set"
            ]
          },
          "execution_count": 1,
          "metadata": {},
          "output_type": "execute_result"
        }
      ],
      "source": [
        "set1 = {1,2,3,4,5}\n",
        "\n",
        "type(set1)"
      ]
    },
    {
      "cell_type": "code",
      "execution_count": null,
      "id": "be41399c",
      "metadata": {
        "id": "be41399c",
        "outputId": "7f41bf21-5c4d-459f-dbbd-4ddb3c14dd10"
      },
      "outputs": [
        {
          "data": {
            "text/plain": [
              "set"
            ]
          },
          "execution_count": 3,
          "metadata": {},
          "output_type": "execute_result"
        }
      ],
      "source": [
        "# Initiating the set\n",
        "set2 = set()\n",
        "type(set2)"
      ]
    },
    {
      "cell_type": "code",
      "execution_count": null,
      "id": "42c7701d",
      "metadata": {
        "id": "42c7701d",
        "outputId": "e2a4f22b-3e2b-4dc1-def3-046ee49fc784"
      },
      "outputs": [
        {
          "data": {
            "text/plain": [
              "dict"
            ]
          },
          "execution_count": 4,
          "metadata": {},
          "output_type": "execute_result"
        }
      ],
      "source": [
        "set3 = {}\n",
        "\n",
        "type(set3)"
      ]
    },
    {
      "cell_type": "code",
      "execution_count": null,
      "id": "ba656194",
      "metadata": {
        "id": "ba656194",
        "outputId": "4ab5babe-2103-40cc-9fcd-2ad9f5f5b188"
      },
      "outputs": [
        {
          "name": "stdout",
          "output_type": "stream",
          "text": [
            "{1, 2, 3, 4, 5, 6, 7, 8, 9, 11}\n"
          ]
        }
      ],
      "source": [
        "set1 = {1,2,2,3,4,5,6,6,7,7,8,9,9,11,11,}\n",
        "\n",
        "print(set1)   # Duplicates are not allowed"
      ]
    },
    {
      "cell_type": "code",
      "execution_count": null,
      "id": "8d8c47cc",
      "metadata": {
        "id": "8d8c47cc",
        "outputId": "fe08bfa1-9f31-4459-85af-5a4ba2eb88af"
      },
      "outputs": [
        {
          "name": "stdout",
          "output_type": "stream",
          "text": [
            "{'29', 1, 2, 'Pune', 36, 'Aurangabaad', 'Mumbai', 'Amarvati', 'Chennai', 'Kolkata', 'Delhi', 'Ahmedabaad'}\n"
          ]
        }
      ],
      "source": [
        "## Unordered\n",
        "\n",
        "set1 = {\"Pune\",1,\"Kolkata\",2,\"Delhi\",\"Mumbai\",36,\"Amarvati\",\"Chennai\",\"29\",\"Ahmedabaad\",\"Aurangabaad\"}\n",
        "\n",
        "print(set1)"
      ]
    },
    {
      "cell_type": "code",
      "execution_count": null,
      "id": "1d77553c",
      "metadata": {
        "id": "1d77553c",
        "outputId": "21c746c2-e5f4-42c7-e0c3-d1c98567c044"
      },
      "outputs": [
        {
          "ename": "TypeError",
          "evalue": "'set' object is not subscriptable",
          "output_type": "error",
          "traceback": [
            "\u001b[1;31m---------------------------------------------------------------------------\u001b[0m",
            "\u001b[1;31mTypeError\u001b[0m                                 Traceback (most recent call last)",
            "Input \u001b[1;32mIn [12]\u001b[0m, in \u001b[0;36m<cell line: 5>\u001b[1;34m()\u001b[0m\n\u001b[0;32m      1\u001b[0m \u001b[38;5;66;03m## Indexing Does Not Work\u001b[39;00m\n\u001b[0;32m      3\u001b[0m set1 \u001b[38;5;241m=\u001b[39m {\u001b[38;5;124m\"\u001b[39m\u001b[38;5;124mPune\u001b[39m\u001b[38;5;124m\"\u001b[39m,\u001b[38;5;241m1\u001b[39m,\u001b[38;5;124m\"\u001b[39m\u001b[38;5;124mKolkata\u001b[39m\u001b[38;5;124m\"\u001b[39m,\u001b[38;5;241m2\u001b[39m,\u001b[38;5;124m\"\u001b[39m\u001b[38;5;124mDelhi\u001b[39m\u001b[38;5;124m\"\u001b[39m,\u001b[38;5;124m\"\u001b[39m\u001b[38;5;124mMumbai\u001b[39m\u001b[38;5;124m\"\u001b[39m,\u001b[38;5;241m36\u001b[39m,\u001b[38;5;124m\"\u001b[39m\u001b[38;5;124mAmarvati\u001b[39m\u001b[38;5;124m\"\u001b[39m,\u001b[38;5;124m\"\u001b[39m\u001b[38;5;124mChennai\u001b[39m\u001b[38;5;124m\"\u001b[39m,\u001b[38;5;124m\"\u001b[39m\u001b[38;5;124m29\u001b[39m\u001b[38;5;124m\"\u001b[39m,\u001b[38;5;124m\"\u001b[39m\u001b[38;5;124mAhmedabaad\u001b[39m\u001b[38;5;124m\"\u001b[39m,\u001b[38;5;124m\"\u001b[39m\u001b[38;5;124mAurangabaad\u001b[39m\u001b[38;5;124m\"\u001b[39m}\n\u001b[1;32m----> 5\u001b[0m \u001b[43mset1\u001b[49m\u001b[43m[\u001b[49m\u001b[38;5;241;43m4\u001b[39;49m\u001b[43m]\u001b[49m\n",
            "\u001b[1;31mTypeError\u001b[0m: 'set' object is not subscriptable"
          ]
        }
      ],
      "source": [
        "## Indexing Does Not Work\n",
        "\n",
        "set1 = {\"Pune\",1,\"Kolkata\",2,\"Delhi\",\"Mumbai\",36,\"Amarvati\",\"Chennai\",\"29\",\"Ahmedabaad\",\"Aurangabaad\"}\n",
        "\n",
        "set1[4]"
      ]
    },
    {
      "cell_type": "markdown",
      "id": "d35f7a81",
      "metadata": {
        "id": "d35f7a81"
      },
      "source": [
        "## Set Functions"
      ]
    },
    {
      "cell_type": "code",
      "execution_count": null,
      "id": "a411d02f",
      "metadata": {
        "id": "a411d02f"
      },
      "outputs": [],
      "source": [
        "01. add()\n",
        "02. update()\n",
        "03. union()\n",
        "\n",
        "04. remove()\n",
        "05. discard()\n",
        "06. pop()\n",
        "07. clear()\n",
        "08. del (Keyword)\n",
        "\n",
        "09. intersection()\n",
        "10. intersection_update()\n",
        "11. difference()\n",
        "12. difference_update()\n",
        "13. symmetric_difference()\n",
        "14. symmetric_difference_update()\n",
        "\n",
        "15. issuperset()\n",
        "16. issubset()\n",
        "17. isdisjoint()\n",
        "18. copy()"
      ]
    },
    {
      "cell_type": "markdown",
      "id": "4a5b2803",
      "metadata": {
        "id": "4a5b2803"
      },
      "source": [
        "### 1. add()"
      ]
    },
    {
      "cell_type": "code",
      "execution_count": null,
      "id": "5ec0710e",
      "metadata": {
        "id": "5ec0710e"
      },
      "outputs": [],
      "source": [
        "Used for adding an element to the set"
      ]
    },
    {
      "cell_type": "code",
      "execution_count": null,
      "id": "d41abe4f",
      "metadata": {
        "id": "d41abe4f",
        "outputId": "9a52f573-b458-4a7e-c2e7-32e85da506f3"
      },
      "outputs": [
        {
          "name": "stdout",
          "output_type": "stream",
          "text": [
            "{1, 2, 3, 4, 'Python'}\n",
            "{1, 2, 3, 4, 'Data Science', 'Python'}\n"
          ]
        }
      ],
      "source": [
        "set1 = {1,2,3,4,\"Python\"}\n",
        "\n",
        "print(set1)\n",
        "\n",
        "set1.add(\"Data Science\")\n",
        "\n",
        "print(set1)"
      ]
    },
    {
      "cell_type": "code",
      "execution_count": null,
      "id": "c471e61c",
      "metadata": {
        "id": "c471e61c",
        "outputId": "c2881fbe-65c8-4492-911e-3ba410f40ddb"
      },
      "outputs": [
        {
          "name": "stdout",
          "output_type": "stream",
          "text": [
            "{'Delhi', 'Kolkata', 'Akola'}\n",
            "{'Distance', 'Delhi', 'Kolkata', 'Akola'}\n"
          ]
        }
      ],
      "source": [
        "set2 = {\"Delhi\",\"Akola\",\"Kolkata\"}\n",
        "print(set2)\n",
        "set2.add(\"Distance\")\n",
        "print(set2)"
      ]
    },
    {
      "cell_type": "markdown",
      "id": "4030f57d",
      "metadata": {
        "id": "4030f57d"
      },
      "source": [
        "### 2. update()"
      ]
    },
    {
      "cell_type": "code",
      "execution_count": null,
      "id": "737e4479",
      "metadata": {
        "id": "737e4479",
        "outputId": "ce7feb72-891e-4b76-c2d7-8a012282e11e"
      },
      "outputs": [
        {
          "ename": "TypeError",
          "evalue": "unhashable type: 'set'",
          "output_type": "error",
          "traceback": [
            "\u001b[1;31m---------------------------------------------------------------------------\u001b[0m",
            "\u001b[1;31mTypeError\u001b[0m                                 Traceback (most recent call last)",
            "Input \u001b[1;32mIn [15]\u001b[0m, in \u001b[0;36m<cell line: 4>\u001b[1;34m()\u001b[0m\n\u001b[0;32m      1\u001b[0m set1 \u001b[38;5;241m=\u001b[39m {\u001b[38;5;241m1\u001b[39m,\u001b[38;5;241m2\u001b[39m,\u001b[38;5;241m3\u001b[39m,\u001b[38;5;241m4\u001b[39m}\n\u001b[0;32m      2\u001b[0m set2 \u001b[38;5;241m=\u001b[39m {\u001b[38;5;241m5\u001b[39m,\u001b[38;5;241m6\u001b[39m,\u001b[38;5;241m7\u001b[39m,\u001b[38;5;241m8\u001b[39m}\n\u001b[1;32m----> 4\u001b[0m \u001b[43mset1\u001b[49m\u001b[38;5;241;43m.\u001b[39;49m\u001b[43madd\u001b[49m\u001b[43m(\u001b[49m\u001b[43mset2\u001b[49m\u001b[43m)\u001b[49m\n\u001b[0;32m      6\u001b[0m \u001b[38;5;28mprint\u001b[39m(set1)\n",
            "\u001b[1;31mTypeError\u001b[0m: unhashable type: 'set'"
          ]
        }
      ],
      "source": [
        "set1 = {1,2,3,4}\n",
        "set2 = {5,6,7,8}\n",
        "\n",
        "set1.add(set2)\n",
        "\n",
        "print(set1)"
      ]
    },
    {
      "cell_type": "code",
      "execution_count": null,
      "id": "a1b9a807",
      "metadata": {
        "id": "a1b9a807",
        "outputId": "6e87d531-28bf-4e42-b5b2-a0fc4aa76c24"
      },
      "outputs": [
        {
          "name": "stdout",
          "output_type": "stream",
          "text": [
            "{1, 2, 3, 4, 5, 6, 7, 8}\n",
            "{8, 5, 6, 7}\n"
          ]
        }
      ],
      "source": [
        "set1.update(set2)\n",
        "\n",
        "print(set1)\n",
        "print(set2)"
      ]
    },
    {
      "cell_type": "code",
      "execution_count": null,
      "id": "dfefa475",
      "metadata": {
        "id": "dfefa475",
        "outputId": "052cfedf-010a-49e1-b795-39507990be71"
      },
      "outputs": [
        {
          "name": "stdout",
          "output_type": "stream",
          "text": [
            "{'Delhi', 'Mumbai', 'Satara', 'Nagpur', 'Chennai', 'Sangli'}\n",
            "{'Chennai', 'Mumbai', 'Delhi'}\n",
            "None\n"
          ]
        }
      ],
      "source": [
        "set1 = {\"Delhi\",\"Mumbai\",\"Chennai\"}\n",
        "\n",
        "set2 = {\"Nagpur\",\"Satara\",\"Sangli\"}\n",
        "\n",
        "set3 = set2.update(set1)\n",
        "\n",
        "print(set2)\n",
        "print(set1)\n",
        "print(set3)"
      ]
    },
    {
      "cell_type": "markdown",
      "id": "d3f75ef7",
      "metadata": {
        "id": "d3f75ef7"
      },
      "source": [
        "### 3. union()"
      ]
    },
    {
      "cell_type": "code",
      "execution_count": null,
      "id": "ba69dbb0",
      "metadata": {
        "id": "ba69dbb0",
        "outputId": "61e70630-6785-43d9-d176-5b5de1decb50"
      },
      "outputs": [
        {
          "name": "stdout",
          "output_type": "stream",
          "text": [
            "{'Chennai', 'Mumbai', 'Delhi'}\n",
            "{'Satara', 'Nagpur', 'Sangli'}\n",
            "{'Satara', 'Delhi', 'Mumbai', 'Nagpur', 'Chennai', 'Sangli'}\n"
          ]
        }
      ],
      "source": [
        "set1 = {\"Delhi\",\"Mumbai\",\"Chennai\"}\n",
        "set2 = {\"Nagpur\",\"Satara\",\"Sangli\"}\n",
        "\n",
        "set3 = set1.union(set2)\n",
        "\n",
        "print(set1)\n",
        "print(set2)\n",
        "print(set3)"
      ]
    },
    {
      "cell_type": "code",
      "execution_count": null,
      "id": "512b3d6d",
      "metadata": {
        "id": "512b3d6d",
        "outputId": "1d236780-da73-4c49-9ad4-3f0bb7b55c7e"
      },
      "outputs": [
        {
          "name": "stdout",
          "output_type": "stream",
          "text": [
            "{'Kolkata', 'Delhi', 'Agra', 'Patna', 'Mumbai', 'Nagpur', 'Chennai'}\n",
            "{'Patna', 'Agra', 'Surat', 'Satara', 'Nagpur', 'Sangli'}\n",
            "{'Surat', 'Mumbai', 'Nagpur', 'Chennai', 'Kolkata', 'Delhi', 'Agra', 'Patna', 'Satara', 'Sangli'}\n"
          ]
        }
      ],
      "source": [
        "set1 = {\"Delhi\",\"Mumbai\",\"Chennai\",\"Nagpur\",\"Kolkata\",\"Patna\",\"Agra\"}\n",
        "set2 = {\"Nagpur\",\"Satara\",\"Sangli\",\"Patna\",\"Agra\",\"Surat\"}\n",
        "\n",
        "set3 = set1.union(set2)\n",
        "\n",
        "print(set1)\n",
        "print(set2)\n",
        "print(set3)"
      ]
    },
    {
      "cell_type": "markdown",
      "id": "38b3c7d0",
      "metadata": {
        "id": "38b3c7d0"
      },
      "source": [
        "## Deleting the items from the set"
      ]
    },
    {
      "cell_type": "code",
      "execution_count": null,
      "id": "138cfe76",
      "metadata": {
        "id": "138cfe76"
      },
      "outputs": [],
      "source": [
        "1. remove()\n",
        "2. discard()\n",
        "3. pop()\n",
        "4. clear()\n",
        "5. del"
      ]
    },
    {
      "cell_type": "markdown",
      "id": "10d5691f",
      "metadata": {
        "id": "10d5691f"
      },
      "source": [
        "### 4. remove()"
      ]
    },
    {
      "cell_type": "code",
      "execution_count": null,
      "id": "03542a7c",
      "metadata": {
        "id": "03542a7c",
        "outputId": "5db5e433-c02b-436f-8b4e-c7722d6f38b3"
      },
      "outputs": [
        {
          "name": "stdout",
          "output_type": "stream",
          "text": [
            "{'Kolkata', 'Delhi', 'Agra', 'Mumbai', 'Nagpur', 'Chennai'}\n"
          ]
        }
      ],
      "source": [
        "set1 = {\"Delhi\",\"Mumbai\",\"Chennai\",\"Nagpur\",\"Kolkata\",\"Patna\",\"Agra\"}\n",
        "\n",
        "set1.remove(\"Patna\")\n",
        "\n",
        "print(set1)"
      ]
    },
    {
      "cell_type": "code",
      "execution_count": null,
      "id": "6c21afa2",
      "metadata": {
        "id": "6c21afa2",
        "outputId": "e02b4754-1afc-40ba-f5e3-0c014bb157d1"
      },
      "outputs": [
        {
          "name": "stdout",
          "output_type": "stream",
          "text": [
            "{'Kolkata', 'Delhi', 'Agra', 'Mumbai', 'Chennai'}\n"
          ]
        }
      ],
      "source": [
        "set1.remove(\"Nagpur\")\n",
        "print(set1)"
      ]
    },
    {
      "cell_type": "code",
      "execution_count": null,
      "id": "45d8d693",
      "metadata": {
        "id": "45d8d693",
        "outputId": "b5731926-7226-4f77-cde7-d4ecfe5bb465"
      },
      "outputs": [
        {
          "ename": "KeyError",
          "evalue": "'DELHI'",
          "output_type": "error",
          "traceback": [
            "\u001b[1;31m---------------------------------------------------------------------------\u001b[0m",
            "\u001b[1;31mKeyError\u001b[0m                                  Traceback (most recent call last)",
            "Input \u001b[1;32mIn [26]\u001b[0m, in \u001b[0;36m<cell line: 1>\u001b[1;34m()\u001b[0m\n\u001b[1;32m----> 1\u001b[0m \u001b[43mset1\u001b[49m\u001b[38;5;241;43m.\u001b[39;49m\u001b[43mremove\u001b[49m\u001b[43m(\u001b[49m\u001b[38;5;124;43m\"\u001b[39;49m\u001b[38;5;124;43mDELHI\u001b[39;49m\u001b[38;5;124;43m\"\u001b[39;49m\u001b[43m)\u001b[49m\n\u001b[0;32m      3\u001b[0m \u001b[38;5;28mprint\u001b[39m(set1)\n",
            "\u001b[1;31mKeyError\u001b[0m: 'DELHI'"
          ]
        }
      ],
      "source": [
        "set1.remove(\"DELHI\")\n",
        "\n",
        "print(set1)"
      ]
    },
    {
      "cell_type": "markdown",
      "id": "e22ba274",
      "metadata": {
        "id": "e22ba274"
      },
      "source": [
        "### 5. discard()"
      ]
    },
    {
      "cell_type": "code",
      "execution_count": null,
      "id": "a512fb20",
      "metadata": {
        "id": "a512fb20",
        "outputId": "3c0b0761-4070-4356-fdb8-3ff1f574d62a"
      },
      "outputs": [
        {
          "name": "stdout",
          "output_type": "stream",
          "text": [
            "{'Kolkata', 'Agra', 'Patna', 'Mumbai', 'Nagpur', 'Chennai'}\n"
          ]
        }
      ],
      "source": [
        "set1 = {\"Delhi\",\"Mumbai\",\"Chennai\",\"Nagpur\",\"Kolkata\",\"Patna\",\"Agra\"}\n",
        "\n",
        "set1.discard(\"Delhi\")\n",
        "\n",
        "print(set1)"
      ]
    },
    {
      "cell_type": "code",
      "execution_count": null,
      "id": "eece675e",
      "metadata": {
        "id": "eece675e",
        "outputId": "1b1cb849-0fe6-4e14-9522-09ee27f97588"
      },
      "outputs": [
        {
          "name": "stdout",
          "output_type": "stream",
          "text": [
            "{'Kolkata', 'Patna', 'Mumbai', 'Nagpur', 'Chennai'}\n"
          ]
        }
      ],
      "source": [
        "set1.discard(\"Agra\")\n",
        "print(set1)"
      ]
    },
    {
      "cell_type": "code",
      "execution_count": null,
      "id": "0121f22a",
      "metadata": {
        "id": "0121f22a",
        "outputId": "b77f8cbe-3b51-4970-8c3e-df72d4bb14a0"
      },
      "outputs": [
        {
          "name": "stdout",
          "output_type": "stream",
          "text": [
            "{'Kolkata', 'Delhi', 'Agra', 'Patna', 'Mumbai', 'Nagpur', 'Chennai'}\n"
          ]
        }
      ],
      "source": [
        "set1 = {\"Delhi\",\"Mumbai\",\"Chennai\",\"Nagpur\",\"Kolkata\",\"Patna\",\"Agra\"}\n",
        "\n",
        "set1.discard(\"MUMBAI\")\n",
        "\n",
        "print(set1)"
      ]
    },
    {
      "cell_type": "code",
      "execution_count": null,
      "id": "ff807700",
      "metadata": {
        "id": "ff807700",
        "outputId": "57bb2c82-bf7a-4cb6-8c41-9f3dfb116c1f"
      },
      "outputs": [
        {
          "ename": "KeyError",
          "evalue": "'Akola'",
          "output_type": "error",
          "traceback": [
            "\u001b[1;31m---------------------------------------------------------------------------\u001b[0m",
            "\u001b[1;31mKeyError\u001b[0m                                  Traceback (most recent call last)",
            "Input \u001b[1;32mIn [30]\u001b[0m, in \u001b[0;36m<cell line: 1>\u001b[1;34m()\u001b[0m\n\u001b[1;32m----> 1\u001b[0m \u001b[43mset1\u001b[49m\u001b[38;5;241;43m.\u001b[39;49m\u001b[43mremove\u001b[49m\u001b[43m(\u001b[49m\u001b[38;5;124;43m\"\u001b[39;49m\u001b[38;5;124;43mAkola\u001b[39;49m\u001b[38;5;124;43m\"\u001b[39;49m\u001b[43m)\u001b[49m\n\u001b[0;32m      2\u001b[0m \u001b[38;5;28mprint\u001b[39m(set1)\n",
            "\u001b[1;31mKeyError\u001b[0m: 'Akola'"
          ]
        }
      ],
      "source": [
        "set1.remove(\"Akola\")\n",
        "print(set1)"
      ]
    },
    {
      "cell_type": "code",
      "execution_count": null,
      "id": "da442678",
      "metadata": {
        "id": "da442678",
        "outputId": "472eaea3-1121-4681-8a4f-5df17522b03f"
      },
      "outputs": [
        {
          "name": "stdout",
          "output_type": "stream",
          "text": [
            "{'Kolkata', 'Delhi', 'Agra', 'Patna', 'Mumbai', 'Nagpur', 'Chennai'}\n"
          ]
        }
      ],
      "source": [
        "set1.discard(\"Akola\")\n",
        "print(set1)"
      ]
    },
    {
      "cell_type": "markdown",
      "id": "64dc733c",
      "metadata": {
        "id": "64dc733c"
      },
      "source": [
        "### 6. pop()"
      ]
    },
    {
      "cell_type": "code",
      "execution_count": null,
      "id": "f4b9b609",
      "metadata": {
        "id": "f4b9b609"
      },
      "outputs": [],
      "source": [
        "## pops the item from the set randomly, and returns the popped item"
      ]
    },
    {
      "cell_type": "code",
      "execution_count": null,
      "id": "40690991",
      "metadata": {
        "id": "40690991",
        "outputId": "53b4bef7-3100-47d4-846a-2245a69bb2f4"
      },
      "outputs": [
        {
          "data": {
            "text/plain": [
              "'Kolkata'"
            ]
          },
          "execution_count": 33,
          "metadata": {},
          "output_type": "execute_result"
        }
      ],
      "source": [
        "set1 = {\"Delhi\",\"Mumbai\",\"Chennai\",\"Nagpur\",\"Kolkata\",\"Patna\",\"Agra\"}\n",
        "\n",
        "set1.pop()"
      ]
    },
    {
      "cell_type": "code",
      "execution_count": null,
      "id": "a3671dbe",
      "metadata": {
        "id": "a3671dbe",
        "outputId": "78461249-c25a-451b-955f-56eebf59ed9f"
      },
      "outputs": [
        {
          "data": {
            "text/plain": [
              "{'Agra', 'Chennai', 'Delhi', 'Mumbai', 'Nagpur', 'Patna'}"
            ]
          },
          "execution_count": 34,
          "metadata": {},
          "output_type": "execute_result"
        }
      ],
      "source": [
        "set1"
      ]
    },
    {
      "cell_type": "code",
      "execution_count": null,
      "id": "f0f26029",
      "metadata": {
        "id": "f0f26029",
        "outputId": "af532788-c094-4721-cb6b-821de52c9ea6"
      },
      "outputs": [
        {
          "name": "stdout",
          "output_type": "stream",
          "text": [
            "{'Delhi', 'Agra', 'Patna', 'Mumbai', 'Nagpur', 'Chennai'}\n",
            "Kolkata\n"
          ]
        }
      ],
      "source": [
        "set1 = {\"Delhi\",\"Mumbai\",\"Chennai\",\"Nagpur\",\"Kolkata\",\"Patna\",\"Agra\"}\n",
        "\n",
        "popped_item = set1.pop()\n",
        "\n",
        "print(set1)\n",
        "print(popped_item)"
      ]
    },
    {
      "cell_type": "code",
      "execution_count": null,
      "id": "40ba7a5d",
      "metadata": {
        "id": "40ba7a5d",
        "outputId": "eab6d0ce-1f10-43fa-c504-57175d64a7d8"
      },
      "outputs": [
        {
          "name": "stdout",
          "output_type": "stream",
          "text": [
            "{'Agra', 'Patna', 'Mumbai', 'Nagpur', 'Chennai'}\n",
            "Delhi\n"
          ]
        }
      ],
      "source": [
        "popped_item = set1.pop()\n",
        "\n",
        "print(set1)\n",
        "print(popped_item)"
      ]
    },
    {
      "cell_type": "code",
      "execution_count": null,
      "id": "745a09e2",
      "metadata": {
        "id": "745a09e2",
        "outputId": "4834ed8c-f149-44d6-fca0-0292c5fae305"
      },
      "outputs": [
        {
          "name": "stdout",
          "output_type": "stream",
          "text": [
            "{'Patna', 'Mumbai', 'Nagpur', 'Chennai'}\n",
            "Agra\n"
          ]
        }
      ],
      "source": [
        "popped_item = set1.pop()\n",
        "\n",
        "print(set1)\n",
        "print(popped_item)"
      ]
    },
    {
      "cell_type": "markdown",
      "id": "7f5e1f9f",
      "metadata": {
        "id": "7f5e1f9f"
      },
      "source": [
        "### 7. clear()"
      ]
    },
    {
      "cell_type": "code",
      "execution_count": null,
      "id": "21d8936f",
      "metadata": {
        "id": "21d8936f",
        "outputId": "fe9a4393-44a6-490f-e5d0-0fcadf9903f5"
      },
      "outputs": [
        {
          "name": "stdout",
          "output_type": "stream",
          "text": [
            "set()\n"
          ]
        }
      ],
      "source": [
        "set1 = {\"Artificial\",\"Data\",\"Python\",\"Intelligence\",\"Science\",\"Computer\",\"Language\"}\n",
        "\n",
        "set1.clear()\n",
        "print(set1)"
      ]
    },
    {
      "cell_type": "markdown",
      "id": "656b76f7",
      "metadata": {
        "id": "656b76f7"
      },
      "source": [
        "### 8. del"
      ]
    },
    {
      "cell_type": "code",
      "execution_count": null,
      "id": "23df5d3d",
      "metadata": {
        "id": "23df5d3d",
        "outputId": "6e708583-a3d8-4aca-91cf-149bf894fae2"
      },
      "outputs": [
        {
          "ename": "NameError",
          "evalue": "name 'set1' is not defined",
          "output_type": "error",
          "traceback": [
            "\u001b[1;31m---------------------------------------------------------------------------\u001b[0m",
            "\u001b[1;31mNameError\u001b[0m                                 Traceback (most recent call last)",
            "Input \u001b[1;32mIn [39]\u001b[0m, in \u001b[0;36m<cell line: 4>\u001b[1;34m()\u001b[0m\n\u001b[0;32m      1\u001b[0m set1 \u001b[38;5;241m=\u001b[39m {\u001b[38;5;124m\"\u001b[39m\u001b[38;5;124mArtificial\u001b[39m\u001b[38;5;124m\"\u001b[39m,\u001b[38;5;124m\"\u001b[39m\u001b[38;5;124mData\u001b[39m\u001b[38;5;124m\"\u001b[39m,\u001b[38;5;124m\"\u001b[39m\u001b[38;5;124mPython\u001b[39m\u001b[38;5;124m\"\u001b[39m,\u001b[38;5;124m\"\u001b[39m\u001b[38;5;124mIntelligence\u001b[39m\u001b[38;5;124m\"\u001b[39m,\u001b[38;5;124m\"\u001b[39m\u001b[38;5;124mScience\u001b[39m\u001b[38;5;124m\"\u001b[39m,\u001b[38;5;124m\"\u001b[39m\u001b[38;5;124mComputer\u001b[39m\u001b[38;5;124m\"\u001b[39m,\u001b[38;5;124m\"\u001b[39m\u001b[38;5;124mLanguage\u001b[39m\u001b[38;5;124m\"\u001b[39m}\n\u001b[0;32m      3\u001b[0m \u001b[38;5;28;01mdel\u001b[39;00m set1\n\u001b[1;32m----> 4\u001b[0m \u001b[38;5;28mprint\u001b[39m(\u001b[43mset1\u001b[49m)\n",
            "\u001b[1;31mNameError\u001b[0m: name 'set1' is not defined"
          ]
        }
      ],
      "source": [
        "set1 = {\"Artificial\",\"Data\",\"Python\",\"Intelligence\",\"Science\",\"Computer\",\"Language\"}\n",
        "\n",
        "del set1\n",
        "print(set1)"
      ]
    },
    {
      "cell_type": "markdown",
      "id": "037af724",
      "metadata": {
        "id": "037af724"
      },
      "source": [
        "### Some More Set Functions"
      ]
    },
    {
      "cell_type": "markdown",
      "id": "ac7679d3",
      "metadata": {
        "id": "ac7679d3"
      },
      "source": [
        "### 9. intersection()"
      ]
    },
    {
      "cell_type": "code",
      "execution_count": null,
      "id": "2360e1ff",
      "metadata": {
        "id": "2360e1ff",
        "outputId": "c9672a52-2a8f-4cc5-90d4-4d4d1539d53b"
      },
      "outputs": [
        {
          "name": "stdout",
          "output_type": "stream",
          "text": [
            "{'Phy', 'English'}\n"
          ]
        }
      ],
      "source": [
        "set1 = {\"Phy\",\"Chem\",\"Bio\",\"English\",\"Math\"}\n",
        "set2 = {\"Phy\", \"English\", \"Advanced Math\",\"Python\",\"Data Science\"}\n",
        "\n",
        "### Returns a set having elements comman in both set1 and set2\n",
        "\n",
        "set3 = set1.intersection(set2)\n",
        "\n",
        "print(set3)"
      ]
    },
    {
      "cell_type": "code",
      "execution_count": null,
      "id": "0c3ec650",
      "metadata": {
        "id": "0c3ec650",
        "outputId": "060952ba-0742-4a91-e11a-9979d1f9d5d5"
      },
      "outputs": [
        {
          "name": "stdout",
          "output_type": "stream",
          "text": [
            "{1, 3, 5, 7, 9}\n"
          ]
        }
      ],
      "source": [
        "set1 = {1,2,3,4,5,6,7,8,9,10}\n",
        "set2 = {1,3,5,7,9,11,13}\n",
        "\n",
        "set3 = set2.intersection(set1)\n",
        "\n",
        "print(set3)"
      ]
    },
    {
      "cell_type": "markdown",
      "id": "14f0bee7",
      "metadata": {
        "id": "14f0bee7"
      },
      "source": [
        "### 10. intersection_update()"
      ]
    },
    {
      "cell_type": "code",
      "execution_count": null,
      "id": "44ee84b5",
      "metadata": {
        "id": "44ee84b5",
        "outputId": "87102d1e-ea64-4b9a-dc2e-a854f2d80a62"
      },
      "outputs": [
        {
          "name": "stdout",
          "output_type": "stream",
          "text": [
            "Before applying intersection_update\n",
            "Set1 : {'Phy', 'Bio', 'Math', 'English', 'Chem'}\n",
            "Set2 : {'Phy', 'Advanced Math', 'Data Science', 'English', 'Python'}\n",
            "\n",
            "Applying intersection_update.....\n",
            "\n",
            "After applying intersection_update\n",
            "Set1:{'Phy', 'English'}\n",
            "Set2 : {'Phy', 'Advanced Math', 'Data Science', 'English', 'Python'}\n"
          ]
        }
      ],
      "source": [
        "set1 = {\"Phy\",\"Chem\",\"Bio\",\"English\",\"Math\"}\n",
        "set2 = {\"Phy\", \"English\", \"Advanced Math\",\"Python\",\"Data Science\"}\n",
        "\n",
        "print(\"Before applying intersection_update\")\n",
        "print(f\"Set1 : {set1}\")\n",
        "print(f\"Set2 : {set2}\")\n",
        "print()\n",
        "print('Applying intersection_update.....')\n",
        "print()\n",
        "\n",
        "set1.intersection_update(set2)\n",
        "\n",
        "## This does not return anything, but updates the set on left (set1 here) \n",
        "## with the elements that are comman between set1 and set2\n",
        "print(\"After applying intersection_update\")\n",
        "print(f\"Set1:{set1}\")\n",
        "print(f\"Set2 : {set2}\")"
      ]
    },
    {
      "cell_type": "code",
      "execution_count": null,
      "id": "d5672407",
      "metadata": {
        "id": "d5672407",
        "outputId": "7763dfce-b6d7-4ff2-f74c-130ac2dd3e53"
      },
      "outputs": [
        {
          "name": "stdout",
          "output_type": "stream",
          "text": [
            "Before applying intersection_update\n",
            "Set1 : {'Phy', 'Bio', 'Math', 'English', 'Chem'}\n",
            "Set2 : {'Phy', 'Advanced Math', 'Data Science', 'English', 'Python'}\n",
            "\n",
            "Applying intersection_update.....\n",
            "\n",
            "After applying intersection_update\n",
            "Set1:{'Phy', 'Bio', 'Math', 'English', 'Chem'}\n",
            "Set2 : {'Phy', 'English'}\n"
          ]
        }
      ],
      "source": [
        "set1 = {\"Phy\",\"Chem\",\"Bio\",\"English\",\"Math\"}\n",
        "set2 = {\"Phy\", \"English\", \"Advanced Math\",\"Python\",\"Data Science\"}\n",
        "\n",
        "print(\"Before applying intersection_update\")\n",
        "print(f\"Set1 : {set1}\")\n",
        "print(f\"Set2 : {set2}\")\n",
        "print()\n",
        "print('Applying intersection_update.....')\n",
        "print()\n",
        "\n",
        "set2.intersection_update(set1)\n",
        "\n",
        "## This does not return anything, but updates the set on left (set2 here) \n",
        "## with the elements that are comman between set1 and set2\n",
        "print(\"After applying intersection_update\")\n",
        "print(f\"Set1:{set1}\")\n",
        "print(f\"Set2 : {set2}\")"
      ]
    },
    {
      "cell_type": "markdown",
      "id": "69d337e7",
      "metadata": {
        "id": "69d337e7"
      },
      "source": [
        "### 11. difference()"
      ]
    },
    {
      "cell_type": "code",
      "execution_count": null,
      "id": "9bd31fa1",
      "metadata": {
        "id": "9bd31fa1",
        "outputId": "a586ccd8-dd2e-4cda-a25f-f01a27b56cf7"
      },
      "outputs": [
        {
          "name": "stdout",
          "output_type": "stream",
          "text": [
            "{'Bio', 'Chem', 'Math'}\n"
          ]
        }
      ],
      "source": [
        "set1 = {\"Phy\",\"Chem\",\"Bio\",\"English\",\"Math\"}\n",
        "set2 = {\"Phy\", \"English\", \"Advanced Math\",\"Python\",\"Data Science\"}\n",
        "\n",
        "set3 = set1.difference(set2)\n",
        "\n",
        "## Returns difference between two sets, but the elements from the left set only\n",
        "\n",
        "print(set3)"
      ]
    },
    {
      "cell_type": "code",
      "execution_count": null,
      "id": "118459d7",
      "metadata": {
        "id": "118459d7",
        "outputId": "5c3c50b0-7ed1-4355-a2ad-c0dd3ccc99a9"
      },
      "outputs": [
        {
          "name": "stdout",
          "output_type": "stream",
          "text": [
            "{'Advanced Math', 'Data Science', 'Python'}\n"
          ]
        }
      ],
      "source": [
        "set1 = {\"Phy\",\"Chem\",\"Bio\",\"English\",\"Math\"}\n",
        "set2 = {\"Phy\", \"English\", \"Advanced Math\",\"Python\",\"Data Science\"}\n",
        "\n",
        "set3 = set2.difference(set1)\n",
        "\n",
        "## Returns difference between two sets, but the elements from the left set only\n",
        "\n",
        "print(set3)"
      ]
    },
    {
      "cell_type": "markdown",
      "id": "272ae9ed",
      "metadata": {
        "id": "272ae9ed"
      },
      "source": [
        "### 12. difference_update()"
      ]
    },
    {
      "cell_type": "code",
      "execution_count": null,
      "id": "cc97ef5d",
      "metadata": {
        "id": "cc97ef5d",
        "outputId": "45ce5c17-f1e1-4a7d-c414-bb08a373a61b"
      },
      "outputs": [
        {
          "name": "stdout",
          "output_type": "stream",
          "text": [
            "{'Bio', 'Math', 'Chem'}\n"
          ]
        }
      ],
      "source": [
        "set1 = {\"Phy\",\"Chem\",\"Bio\",\"English\",\"Math\"}\n",
        "set2 = {\"Phy\", \"English\", \"Advanced Math\",\"Python\",\"Data Science\"}\n",
        "\n",
        "set1.difference_update(set2)\n",
        "\n",
        "print(set1)\n",
        "\n",
        "## This will not return anything, but updates the set on the left with the elements of \n",
        "## set on left, that are not present in the right set"
      ]
    },
    {
      "cell_type": "code",
      "execution_count": null,
      "id": "cf9df8c4",
      "metadata": {
        "id": "cf9df8c4",
        "outputId": "71a8090b-b138-4740-aa8d-27a18637b82c"
      },
      "outputs": [
        {
          "name": "stdout",
          "output_type": "stream",
          "text": [
            "{'Advanced Math', 'Data Science', 'Python'}\n"
          ]
        }
      ],
      "source": [
        "set1 = {\"Phy\",\"Chem\",\"Bio\",\"English\",\"Math\"}\n",
        "set2 = {\"Phy\", \"English\", \"Advanced Math\",\"Python\",\"Data Science\"}\n",
        "\n",
        "set2.difference_update(set1)\n",
        "\n",
        "print(set2)\n",
        "\n",
        "## This will not return anything, but updates the set on the left with the elements of \n",
        "## set on left, that are not present in the right set"
      ]
    },
    {
      "cell_type": "code",
      "execution_count": null,
      "id": "fa5c2708",
      "metadata": {
        "id": "fa5c2708",
        "outputId": "f47cc217-268e-40ad-c242-8779ad96f053"
      },
      "outputs": [
        {
          "name": "stdout",
          "output_type": "stream",
          "text": [
            "{2}\n"
          ]
        }
      ],
      "source": [
        "set1 = {2,3,4,5,6,7}\n",
        "set2 = {5,6,7,8,10,11}\n",
        "set3 = {3,4,5,6,7,8,9,100,300,400}\n",
        "\n",
        "set1.difference_update(set2,set3)\n",
        "\n",
        "print(set1)"
      ]
    },
    {
      "cell_type": "code",
      "execution_count": null,
      "id": "9359755e",
      "metadata": {
        "id": "9359755e",
        "outputId": "ebcb6954-5005-40b2-86a4-982ee954b8e7"
      },
      "outputs": [
        {
          "name": "stdout",
          "output_type": "stream",
          "text": [
            "{10, 11}\n"
          ]
        }
      ],
      "source": [
        "set1 = {2,3,4,5,6,7}\n",
        "set2 = {5,6,7,8,10,11}\n",
        "set3 = {3,4,5,6,7,8,9,100,300,400}\n",
        "set2.difference_update(set1,set3)\n",
        "print(set2)"
      ]
    },
    {
      "cell_type": "code",
      "execution_count": null,
      "id": "6dbfa3c2",
      "metadata": {
        "id": "6dbfa3c2",
        "outputId": "6dd1bfd1-3527-4c11-a670-66dd44163312"
      },
      "outputs": [
        {
          "name": "stdout",
          "output_type": "stream",
          "text": [
            "{9, 100, 300, 400}\n"
          ]
        }
      ],
      "source": [
        "set1 = {2,3,4,5,6,7}\n",
        "set2 = {5,6,7,8,10,11}\n",
        "set3 = {3,4,5,6,7,8,9,100,300,400}\n",
        "set3.difference_update(set1,set2)\n",
        "print(set3)"
      ]
    },
    {
      "cell_type": "markdown",
      "id": "033bcd7d",
      "metadata": {
        "id": "033bcd7d"
      },
      "source": [
        "### 13. symmetric_difference()"
      ]
    },
    {
      "cell_type": "code",
      "execution_count": null,
      "id": "8858a519",
      "metadata": {
        "id": "8858a519",
        "outputId": "d2a3ab5c-feca-4c4f-a77f-7ece8f6b6b6f"
      },
      "outputs": [
        {
          "name": "stdout",
          "output_type": "stream",
          "text": [
            "{'Advanced Math', 'Bio', 'Data Science', 'Math', 'Python', 'Chem'}\n"
          ]
        }
      ],
      "source": [
        "set1 = {\"Phy\",\"Chem\",\"Bio\",\"English\",\"Math\"}\n",
        "set2 = {\"Phy\", \"English\", \"Advanced Math\",\"Python\",\"Data Science\"}\n",
        "\n",
        "## This will return elements that are not comman between both of the sets\n",
        "\n",
        "set3 = set1.symmetric_difference(set2)\n",
        "\n",
        "print(set3)"
      ]
    },
    {
      "cell_type": "code",
      "execution_count": null,
      "id": "9c0ae411",
      "metadata": {
        "id": "9c0ae411",
        "outputId": "97b6df4f-aa4c-4fcd-dc64-ba40defb6913"
      },
      "outputs": [
        {
          "name": "stdout",
          "output_type": "stream",
          "text": [
            "{'Surat', 'Mumbai', 'Chennai', 'Kolkata', 'Delhi', 'Satara', 'Sangli'}\n"
          ]
        }
      ],
      "source": [
        "set1 = {\"Delhi\",\"Mumbai\",\"Chennai\",\"Nagpur\",\"Kolkata\",\"Patna\",\"Agra\"}\n",
        "set2 = {\"Nagpur\",\"Satara\",\"Sangli\",\"Patna\",\"Agra\",\"Surat\"}\n",
        "\n",
        "set3 = set1.symmetric_difference(set2)\n",
        "print(set3)"
      ]
    },
    {
      "cell_type": "code",
      "execution_count": null,
      "id": "480d72f7",
      "metadata": {
        "id": "480d72f7",
        "outputId": "0a25f237-2ef8-403d-a814-dc1fdd394761"
      },
      "outputs": [
        {
          "data": {
            "text/plain": [
              "{'Agra', 'Nagpur', 'Patna'}"
            ]
          },
          "execution_count": 62,
          "metadata": {},
          "output_type": "execute_result"
        }
      ],
      "source": [
        "set1.intersection(set2)"
      ]
    },
    {
      "cell_type": "markdown",
      "id": "440714ea",
      "metadata": {
        "id": "440714ea"
      },
      "source": [
        "### 14. symmetric_difference_update()"
      ]
    },
    {
      "cell_type": "code",
      "execution_count": null,
      "id": "c64626ee",
      "metadata": {
        "id": "c64626ee",
        "outputId": "591064b8-c1cd-4e91-f2ed-a87bb312c538"
      },
      "outputs": [
        {
          "name": "stdout",
          "output_type": "stream",
          "text": [
            "{'Surat', 'Mumbai', 'Chennai', 'Kolkata', 'Delhi', 'Satara', 'Sangli'}\n",
            "{'Patna', 'Agra', 'Surat', 'Satara', 'Nagpur', 'Sangli'}\n"
          ]
        }
      ],
      "source": [
        "set1 = {\"Delhi\",\"Mumbai\",\"Chennai\",\"Nagpur\",\"Kolkata\",\"Patna\",\"Agra\"}\n",
        "set2 = {\"Nagpur\",\"Satara\",\"Sangli\",\"Patna\",\"Agra\",\"Surat\"}\n",
        "\n",
        "## This will not return anything, but it will update set won left with the elements that are not comman between both set\n",
        "\n",
        "set1.symmetric_difference_update(set2)\n",
        "\n",
        "print(set1)\n",
        "print(set2)"
      ]
    },
    {
      "cell_type": "code",
      "execution_count": null,
      "id": "30c4067f",
      "metadata": {
        "id": "30c4067f",
        "outputId": "7eccd55b-8e41-4144-9a67-1e71d0a50cb7"
      },
      "outputs": [
        {
          "name": "stdout",
          "output_type": "stream",
          "text": [
            "{'Phy', 'Bio', 'Math', 'English', 'Chem'}\n",
            "{'Advanced Math', 'Bio', 'Data Science', 'Math', 'Python', 'Chem'}\n"
          ]
        }
      ],
      "source": [
        "set1 = {\"Phy\",\"Chem\",\"Bio\",\"English\",\"Math\"}\n",
        "set2 = {\"Phy\", \"English\", \"Advanced Math\",\"Python\",\"Data Science\"}\n",
        "\n",
        "set2.symmetric_difference_update(set1)\n",
        "\n",
        "print(set1)\n",
        "print(set2)"
      ]
    },
    {
      "cell_type": "markdown",
      "id": "8f1f5de9",
      "metadata": {
        "id": "8f1f5de9"
      },
      "source": [
        "## Remaining Functions"
      ]
    },
    {
      "cell_type": "markdown",
      "id": "60c9f32e",
      "metadata": {
        "id": "60c9f32e"
      },
      "source": [
        "### 15. issuperset()"
      ]
    },
    {
      "cell_type": "code",
      "execution_count": null,
      "id": "fd72e1a9",
      "metadata": {
        "id": "fd72e1a9",
        "outputId": "c7ba7620-0134-4fad-e620-918639025412"
      },
      "outputs": [
        {
          "data": {
            "text/plain": [
              "True"
            ]
          },
          "execution_count": 66,
          "metadata": {},
          "output_type": "execute_result"
        }
      ],
      "source": [
        "set1 = {1,2,3,4,5,6,7,8,9,10}\n",
        "set2 = {1,2,3,4}\n",
        "\n",
        "set1.issuperset(set2)"
      ]
    },
    {
      "cell_type": "code",
      "execution_count": null,
      "id": "0c3ad79d",
      "metadata": {
        "id": "0c3ad79d",
        "outputId": "1c1b7162-1f89-4483-cb97-bf116112667a"
      },
      "outputs": [
        {
          "data": {
            "text/plain": [
              "False"
            ]
          },
          "execution_count": 67,
          "metadata": {},
          "output_type": "execute_result"
        }
      ],
      "source": [
        "set2.issuperset(set1)"
      ]
    },
    {
      "cell_type": "markdown",
      "id": "d7e13190",
      "metadata": {
        "id": "d7e13190"
      },
      "source": [
        "### 16. issubset()"
      ]
    },
    {
      "cell_type": "code",
      "execution_count": null,
      "id": "4b55aaaa",
      "metadata": {
        "id": "4b55aaaa",
        "outputId": "9ccb9f12-63c1-43e7-8bf5-02f89e126ea5"
      },
      "outputs": [
        {
          "data": {
            "text/plain": [
              "False"
            ]
          },
          "execution_count": 68,
          "metadata": {},
          "output_type": "execute_result"
        }
      ],
      "source": [
        "set1 = {1,2,3,4,5,6,7,8,9,10}\n",
        "set2 = {1,2,3,4}\n",
        "\n",
        "set1.issubset(set2)"
      ]
    },
    {
      "cell_type": "code",
      "execution_count": null,
      "id": "ee88ef16",
      "metadata": {
        "id": "ee88ef16",
        "outputId": "2378cba0-3402-4d72-ee08-10018a22eecf"
      },
      "outputs": [
        {
          "data": {
            "text/plain": [
              "True"
            ]
          },
          "execution_count": 69,
          "metadata": {},
          "output_type": "execute_result"
        }
      ],
      "source": [
        "set2.issubset(set1)"
      ]
    },
    {
      "cell_type": "markdown",
      "id": "015803b4",
      "metadata": {
        "id": "015803b4"
      },
      "source": [
        "#### Additional Example"
      ]
    },
    {
      "cell_type": "code",
      "execution_count": null,
      "id": "c75ca80a",
      "metadata": {
        "id": "c75ca80a",
        "outputId": "b6df0f02-752f-4696-80cd-f4e3a7dbf134"
      },
      "outputs": [
        {
          "data": {
            "text/plain": [
              "False"
            ]
          },
          "execution_count": 70,
          "metadata": {},
          "output_type": "execute_result"
        }
      ],
      "source": [
        "city_set = {\"Delhi\",\"Mumbai\",\"Agra\",\"Chennai\",\"Aurangabaad\",\"Nagpur\",\"Kolkata\"}\n",
        "metro_cities = {\"Delhi\",\"Mumbai\",\"Chennai\",\"Kolkata\"}\n",
        "\n",
        "city_set.issubset(metro_cities)"
      ]
    },
    {
      "cell_type": "code",
      "execution_count": null,
      "id": "4b70bba6",
      "metadata": {
        "id": "4b70bba6",
        "outputId": "b57762e7-ef6a-4662-9064-736af0b297fc"
      },
      "outputs": [
        {
          "data": {
            "text/plain": [
              "True"
            ]
          },
          "execution_count": 71,
          "metadata": {},
          "output_type": "execute_result"
        }
      ],
      "source": [
        "city_set.issuperset(metro_cities)"
      ]
    },
    {
      "cell_type": "code",
      "execution_count": null,
      "id": "f79a4346",
      "metadata": {
        "id": "f79a4346",
        "outputId": "29edb32c-86a0-49b5-c297-9876db4abdfd"
      },
      "outputs": [
        {
          "data": {
            "text/plain": [
              "True"
            ]
          },
          "execution_count": 72,
          "metadata": {},
          "output_type": "execute_result"
        }
      ],
      "source": [
        "metro_cities.issubset(city_set)"
      ]
    },
    {
      "cell_type": "code",
      "execution_count": null,
      "id": "9bd39ddf",
      "metadata": {
        "id": "9bd39ddf",
        "outputId": "0f5a5dde-298a-4c7a-b9d6-3dc188b1797d"
      },
      "outputs": [
        {
          "data": {
            "text/plain": [
              "False"
            ]
          },
          "execution_count": 73,
          "metadata": {},
          "output_type": "execute_result"
        }
      ],
      "source": [
        "set1 = {11,2,3,4,5,6,7,8,9}\n",
        "set2 = {12,13,14}\n",
        "\n",
        "set1.issuperset(set2)"
      ]
    },
    {
      "cell_type": "code",
      "execution_count": null,
      "id": "44b80e1a",
      "metadata": {
        "id": "44b80e1a",
        "outputId": "562ea4db-e81c-4f3a-ef92-59ddb26e1a96"
      },
      "outputs": [
        {
          "data": {
            "text/plain": [
              "True"
            ]
          },
          "execution_count": 74,
          "metadata": {},
          "output_type": "execute_result"
        }
      ],
      "source": [
        "set1 = {11,2,3,4,5,6,7,8,9,12,13,14}\n",
        "set2 = {11,2,3,4,5,6,7,8,12,13,14}\n",
        "\n",
        "set1.issuperset(set2)"
      ]
    },
    {
      "cell_type": "markdown",
      "id": "4aeafd2a",
      "metadata": {
        "id": "4aeafd2a"
      },
      "source": [
        "### 17. isdisjoint()"
      ]
    },
    {
      "cell_type": "code",
      "execution_count": null,
      "id": "464f65e5",
      "metadata": {
        "id": "464f65e5",
        "outputId": "fc1cc743-02f2-4a45-ecec-4e92aeb72b6c"
      },
      "outputs": [
        {
          "data": {
            "text/plain": [
              "False"
            ]
          },
          "execution_count": 75,
          "metadata": {},
          "output_type": "execute_result"
        }
      ],
      "source": [
        "set1 = {11,2,3,4,5,6,7,8,9,12,13,14}\n",
        "set2 = {11,2,3,4,5,6,7,8,12,13,14}\n",
        "\n",
        "set1.isdisjoint(set2)"
      ]
    },
    {
      "cell_type": "code",
      "execution_count": null,
      "id": "f5525ce0",
      "metadata": {
        "id": "f5525ce0",
        "outputId": "a917d9aa-a64f-4422-dc91-af23a4c59a4a"
      },
      "outputs": [
        {
          "data": {
            "text/plain": [
              "True"
            ]
          },
          "execution_count": 76,
          "metadata": {},
          "output_type": "execute_result"
        }
      ],
      "source": [
        "set1 = {1,2,3,4,5,6,7,8,9,10}\n",
        "set2 = {11,12,13,14}\n",
        "\n",
        "set1.isdisjoint(set2)"
      ]
    },
    {
      "cell_type": "code",
      "execution_count": null,
      "id": "4eda2359",
      "metadata": {
        "id": "4eda2359",
        "outputId": "c8d62b1f-a62d-4a30-f156-c014554fd0ea"
      },
      "outputs": [
        {
          "data": {
            "text/plain": [
              "False"
            ]
          },
          "execution_count": 77,
          "metadata": {},
          "output_type": "execute_result"
        }
      ],
      "source": [
        "set1 = {1,2,3,4,5,6,7,8,9,10}\n",
        "set2 = {10,11,12,13,14}\n",
        "\n",
        "set1.isdisjoint(set2)"
      ]
    },
    {
      "cell_type": "markdown",
      "id": "7d6054a1",
      "metadata": {
        "id": "7d6054a1"
      },
      "source": [
        "### 18. copy()"
      ]
    },
    {
      "cell_type": "code",
      "execution_count": null,
      "id": "41aab80b",
      "metadata": {
        "id": "41aab80b",
        "outputId": "27277df4-7389-4132-a67e-16fece915a42"
      },
      "outputs": [
        {
          "name": "stdout",
          "output_type": "stream",
          "text": [
            "Set1 :: {1, 2, 3, 4, 5}  ID: 1910344478368\n",
            "Set2 :: {1, 2, 3, 4, 5}  ID: 1910344478368\n"
          ]
        }
      ],
      "source": [
        "set1 = {1,2,3,4,5}\n",
        "\n",
        "set2 = set1\n",
        "\n",
        "print(f\"Set1 :: {set1}  ID: {id(set1)}\")\n",
        "print(f\"Set2 :: {set2}  ID: {id(set2)}\")"
      ]
    },
    {
      "cell_type": "code",
      "execution_count": null,
      "id": "0e07b9e6",
      "metadata": {
        "id": "0e07b9e6",
        "outputId": "931db377-4335-4144-e4ba-45e36fdde512"
      },
      "outputs": [
        {
          "name": "stdout",
          "output_type": "stream",
          "text": [
            "Set1 :: {1, 2, 3, 4, 5, 100}  ID: 1910344478368\n",
            "Set2 :: {1, 2, 3, 4, 5, 100}  ID: 1910344478368\n"
          ]
        }
      ],
      "source": [
        "set1.add(100)\n",
        "\n",
        "print(f\"Set1 :: {set1}  ID: {id(set1)}\")\n",
        "print(f\"Set2 :: {set2}  ID: {id(set2)}\")"
      ]
    },
    {
      "cell_type": "code",
      "execution_count": null,
      "id": "906e2066",
      "metadata": {
        "id": "906e2066",
        "outputId": "2675f12c-2788-496e-daaa-245633d8c745"
      },
      "outputs": [
        {
          "name": "stdout",
          "output_type": "stream",
          "text": [
            "Set1 :: {1, 2, 3, 4, 5}  ID: 1910344681056\n",
            "Set2 :: {1, 2, 3, 4, 5}  ID: 1910342091040\n"
          ]
        }
      ],
      "source": [
        "## Using copy`\n",
        "set1 = {1,2,3,4,5}\n",
        "\n",
        "set2 = set1.copy()\n",
        "\n",
        "print(f\"Set1 :: {set1}  ID: {id(set1)}\")\n",
        "print(f\"Set2 :: {set2}  ID: {id(set2)}\")"
      ]
    },
    {
      "cell_type": "code",
      "execution_count": null,
      "id": "808d4cbd",
      "metadata": {
        "id": "808d4cbd",
        "outputId": "026935b2-e1d6-4409-8f79-be777cba9a1b"
      },
      "outputs": [
        {
          "name": "stdout",
          "output_type": "stream",
          "text": [
            "Set1 :: {1, 2, 3, 4, 5, 100}  ID: 1910344681056\n",
            "Set2 :: {1, 2, 3, 4, 5}  ID: 1910342091040\n"
          ]
        }
      ],
      "source": [
        "set1.add(100)\n",
        "\n",
        "print(f\"Set1 :: {set1}  ID: {id(set1)}\")\n",
        "print(f\"Set2 :: {set2}  ID: {id(set2)}\")"
      ]
    },
    {
      "cell_type": "code",
      "execution_count": null,
      "id": "07865ffe",
      "metadata": {
        "id": "07865ffe",
        "outputId": "661a7f1a-84b3-496d-ed05-f74a5abdff8a"
      },
      "outputs": [
        {
          "ename": "TypeError",
          "evalue": "unhashable type: 'list'",
          "output_type": "error",
          "traceback": [
            "\u001b[1;31m---------------------------------------------------------------------------\u001b[0m",
            "\u001b[1;31mTypeError\u001b[0m                                 Traceback (most recent call last)",
            "Input \u001b[1;32mIn [82]\u001b[0m, in \u001b[0;36m<cell line: 1>\u001b[1;34m()\u001b[0m\n\u001b[1;32m----> 1\u001b[0m set1 \u001b[38;5;241m=\u001b[39m {\u001b[38;5;241m1\u001b[39m,\u001b[38;5;241m2\u001b[39m,\u001b[38;5;241m3\u001b[39m,\u001b[38;5;241m4\u001b[39m,[\u001b[38;5;241m1\u001b[39m,\u001b[38;5;241m2\u001b[39m,\u001b[38;5;241m3\u001b[39m]}\n\u001b[0;32m      2\u001b[0m \u001b[38;5;28mprint\u001b[39m(set1)\n",
            "\u001b[1;31mTypeError\u001b[0m: unhashable type: 'list'"
          ]
        }
      ],
      "source": [
        "set1 = {1,2,3,4,[1,2,3]}\n",
        "print(set1)"
      ]
    },
    {
      "cell_type": "markdown",
      "id": "e140c39c",
      "metadata": {
        "id": "e140c39c"
      },
      "source": [
        "### Accessing Elements form set"
      ]
    },
    {
      "cell_type": "code",
      "execution_count": null,
      "id": "b09bfaf8",
      "metadata": {
        "id": "b09bfaf8",
        "outputId": "b0b404e1-9dac-4ed3-fd47-4a7a4131d2a0"
      },
      "outputs": [
        {
          "data": {
            "text/plain": [
              "[1, 2, 3, 33, 4, 5, 6, 66, 7, 8, 9, 44]"
            ]
          },
          "execution_count": 84,
          "metadata": {},
          "output_type": "execute_result"
        }
      ],
      "source": [
        "list1 = [1,2,33,33,44,2,3,4,5,6,66,6,7,8,4,5,6,7,8,9,3,4,5]\n",
        "\n",
        "set1 = set(list1)\n",
        "\n",
        "list(set1)"
      ]
    },
    {
      "cell_type": "code",
      "execution_count": null,
      "id": "b7a964a5",
      "metadata": {
        "id": "b7a964a5",
        "outputId": "575ca6ff-765d-43d7-fe68-ee81ed1e4369"
      },
      "outputs": [
        {
          "name": "stdout",
          "output_type": "stream",
          "text": [
            "0 1 2 3 4 5 6 7 8 9 \n",
            "0 1 2 3 4 5 6 7 8 \n",
            "0 1 2 3 4 5 6 7 \n",
            "0 1 2 3 4 5 6 \n",
            "0 1 2 3 4 5 \n",
            "0 1 2 3 4 \n",
            "0 1 2 3 \n",
            "0 1 2 \n",
            "0 1 \n",
            "0 \n"
          ]
        }
      ],
      "source": [
        "i = 10\n",
        "j = 10\n",
        "\n",
        "for i in range(10):\n",
        "    for j in range(j):\n",
        "        print(j,end = \" \")\n",
        "    print()"
      ]
    },
    {
      "cell_type": "code",
      "execution_count": null,
      "id": "e3712720",
      "metadata": {
        "id": "e3712720"
      },
      "outputs": [],
      "source": [
        "## i = 0   >> ## j = 10 >> 0,1,2,3,4,5,6,7,8,9 >> j = 9\n",
        "## i = 1   >> ## j = 9 >> 0,1,2,3,4,5,6,7,8    >> j = 8\n",
        "## i = 2   >> ## j = 8 >> 0,1,2,3,4,5,6,7      >> j = 7"
      ]
    }
  ],
  "metadata": {
    "kernelspec": {
      "display_name": "Python 3 (ipykernel)",
      "language": "python",
      "name": "python3"
    },
    "language_info": {
      "codemirror_mode": {
        "name": "ipython",
        "version": 3
      },
      "file_extension": ".py",
      "mimetype": "text/x-python",
      "name": "python",
      "nbconvert_exporter": "python",
      "pygments_lexer": "ipython3",
      "version": "3.10.5"
    },
    "colab": {
      "provenance": [],
      "include_colab_link": true
    }
  },
  "nbformat": 4,
  "nbformat_minor": 5
}